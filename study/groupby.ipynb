{
 "cells": [
  {
   "cell_type": "markdown",
   "metadata": {},
   "source": [
    "SQL에서 한라인으로 처리할 수 있는 작업을 Pandas에서는 `agg()` 로 한다."
   ]
  },
  {
   "cell_type": "code",
   "execution_count": 2,
   "metadata": {
    "ExecuteTime": {
     "end_time": "2021-01-04T04:40:44.527849Z",
     "start_time": "2021-01-04T04:40:43.889150Z"
    }
   },
   "outputs": [],
   "source": [
    "import pandas as pd"
   ]
  },
  {
   "cell_type": "code",
   "execution_count": 3,
   "metadata": {
    "ExecuteTime": {
     "end_time": "2021-01-04T04:40:45.193891Z",
     "start_time": "2021-01-04T04:40:45.173590Z"
    }
   },
   "outputs": [
    {
     "data": {
      "text/html": [
       "<div>\n",
       "<style scoped>\n",
       "    .dataframe tbody tr th:only-of-type {\n",
       "        vertical-align: middle;\n",
       "    }\n",
       "\n",
       "    .dataframe tbody tr th {\n",
       "        vertical-align: top;\n",
       "    }\n",
       "\n",
       "    .dataframe thead th {\n",
       "        text-align: right;\n",
       "    }\n",
       "</style>\n",
       "<table border=\"1\" class=\"dataframe\">\n",
       "  <thead>\n",
       "    <tr style=\"text-align: right;\">\n",
       "      <th></th>\n",
       "      <th>customer_name</th>\n",
       "      <th>cust_country</th>\n",
       "      <th>gender</th>\n",
       "      <th>grade</th>\n",
       "      <th>age</th>\n",
       "    </tr>\n",
       "  </thead>\n",
       "  <tbody>\n",
       "    <tr>\n",
       "      <td>0</td>\n",
       "      <td>Alice</td>\n",
       "      <td>US</td>\n",
       "      <td>F</td>\n",
       "      <td>3</td>\n",
       "      <td>25</td>\n",
       "    </tr>\n",
       "    <tr>\n",
       "      <td>1</td>\n",
       "      <td>Tom</td>\n",
       "      <td>GB</td>\n",
       "      <td>M</td>\n",
       "      <td>1</td>\n",
       "      <td>34</td>\n",
       "    </tr>\n",
       "    <tr>\n",
       "      <td>2</td>\n",
       "      <td>James</td>\n",
       "      <td>US</td>\n",
       "      <td>M</td>\n",
       "      <td>2</td>\n",
       "      <td>26</td>\n",
       "    </tr>\n",
       "    <tr>\n",
       "      <td>3</td>\n",
       "      <td>Yerin</td>\n",
       "      <td>KOR</td>\n",
       "      <td>F</td>\n",
       "      <td>5</td>\n",
       "      <td>33</td>\n",
       "    </tr>\n",
       "    <tr>\n",
       "      <td>4</td>\n",
       "      <td>Min</td>\n",
       "      <td>KOR</td>\n",
       "      <td>M</td>\n",
       "      <td>4</td>\n",
       "      <td>67</td>\n",
       "    </tr>\n",
       "    <tr>\n",
       "      <td>5</td>\n",
       "      <td>Katherine</td>\n",
       "      <td>GB</td>\n",
       "      <td>F</td>\n",
       "      <td>3</td>\n",
       "      <td>29</td>\n",
       "    </tr>\n",
       "    <tr>\n",
       "      <td>6</td>\n",
       "      <td>John</td>\n",
       "      <td>US</td>\n",
       "      <td>M</td>\n",
       "      <td>5</td>\n",
       "      <td>54</td>\n",
       "    </tr>\n",
       "    <tr>\n",
       "      <td>7</td>\n",
       "      <td>Park</td>\n",
       "      <td>KOR</td>\n",
       "      <td>M</td>\n",
       "      <td>7</td>\n",
       "      <td>21</td>\n",
       "    </tr>\n",
       "    <tr>\n",
       "      <td>8</td>\n",
       "      <td>Maria</td>\n",
       "      <td>US</td>\n",
       "      <td>F</td>\n",
       "      <td>2</td>\n",
       "      <td>77</td>\n",
       "    </tr>\n",
       "    <tr>\n",
       "      <td>9</td>\n",
       "      <td>Derik</td>\n",
       "      <td>GB</td>\n",
       "      <td>M</td>\n",
       "      <td>4</td>\n",
       "      <td>29</td>\n",
       "    </tr>\n",
       "    <tr>\n",
       "      <td>10</td>\n",
       "      <td>Jin</td>\n",
       "      <td>KOR</td>\n",
       "      <td>F</td>\n",
       "      <td>5</td>\n",
       "      <td>16</td>\n",
       "    </tr>\n",
       "  </tbody>\n",
       "</table>\n",
       "</div>"
      ],
      "text/plain": [
       "   customer_name cust_country gender  grade  age\n",
       "0          Alice           US      F      3   25\n",
       "1            Tom           GB      M      1   34\n",
       "2          James           US      M      2   26\n",
       "3          Yerin          KOR      F      5   33\n",
       "4            Min          KOR      M      4   67\n",
       "5      Katherine           GB      F      3   29\n",
       "6           John           US      M      5   54\n",
       "7           Park          KOR      M      7   21\n",
       "8          Maria           US      F      2   77\n",
       "9          Derik           GB      M      4   29\n",
       "10           Jin          KOR      F      5   16"
      ]
     },
     "execution_count": 3,
     "metadata": {},
     "output_type": "execute_result"
    }
   ],
   "source": [
    "cust_dict = {\n",
    "    'customer_name':['Alice', 'Tom', 'James', 'Yerin', 'Min', 'Katherine', 'John', 'Park', 'Maria', 'Derik', 'Jin'],\n",
    "    'cust_country':['US', 'GB', 'US', 'KOR', 'KOR', 'GB', 'US', 'KOR', 'US', 'GB', 'KOR'],\n",
    "    'gender':['F', 'M', 'M', 'F', 'M', 'F', 'M', 'M', 'F', 'M', 'F'],\n",
    "    'grade':[3, 1, 2, 5, 4, 3, 5, 7, 2, 4, 5],\n",
    "    'age':[25, 34, 26, 33, 67, 29, 54, 21, 77, 29, 16]\n",
    "}\n",
    "customer = pd.DataFrame(cust_dict)\n",
    "\n",
    "customer.head(11)"
   ]
  },
  {
   "cell_type": "markdown",
   "metadata": {},
   "source": [
    "### SQL Group by \n",
    "```sql\n",
    "SELECT cust_country, sum(grade) sum_grade, max(grade) max_grade, avg(age) avg_age\n",
    ", max(age) max_age FROM customer group by cust_country\n",
    "```\n",
    "### Pandas Groupby\n",
    "#### grouby key 컬럼으로 DataFrameGroupby 를 생성"
   ]
  },
  {
   "cell_type": "code",
   "execution_count": 4,
   "metadata": {
    "ExecuteTime": {
     "end_time": "2021-01-04T04:42:31.349161Z",
     "start_time": "2021-01-04T04:42:31.345378Z"
    }
   },
   "outputs": [
    {
     "data": {
      "text/plain": [
       "pandas.core.groupby.generic.DataFrameGroupBy"
      ]
     },
     "execution_count": 4,
     "metadata": {},
     "output_type": "execute_result"
    }
   ],
   "source": [
    "cust_group = customer.groupby('cust_country')\n",
    "type(cust_group)"
   ]
  },
  {
   "cell_type": "code",
   "execution_count": 5,
   "metadata": {
    "ExecuteTime": {
     "end_time": "2021-01-04T04:42:49.496598Z",
     "start_time": "2021-01-04T04:42:49.486901Z"
    }
   },
   "outputs": [
    {
     "data": {
      "text/html": [
       "<div>\n",
       "<style scoped>\n",
       "    .dataframe tbody tr th:only-of-type {\n",
       "        vertical-align: middle;\n",
       "    }\n",
       "\n",
       "    .dataframe tbody tr th {\n",
       "        vertical-align: top;\n",
       "    }\n",
       "\n",
       "    .dataframe thead th {\n",
       "        text-align: right;\n",
       "    }\n",
       "</style>\n",
       "<table border=\"1\" class=\"dataframe\">\n",
       "  <thead>\n",
       "    <tr style=\"text-align: right;\">\n",
       "      <th></th>\n",
       "      <th>customer_name</th>\n",
       "      <th>cust_country</th>\n",
       "      <th>gender</th>\n",
       "      <th>grade</th>\n",
       "      <th>age</th>\n",
       "    </tr>\n",
       "  </thead>\n",
       "  <tbody>\n",
       "    <tr>\n",
       "      <td>0</td>\n",
       "      <td>Alice</td>\n",
       "      <td>US</td>\n",
       "      <td>F</td>\n",
       "      <td>3</td>\n",
       "      <td>25</td>\n",
       "    </tr>\n",
       "    <tr>\n",
       "      <td>1</td>\n",
       "      <td>Tom</td>\n",
       "      <td>GB</td>\n",
       "      <td>M</td>\n",
       "      <td>1</td>\n",
       "      <td>34</td>\n",
       "    </tr>\n",
       "    <tr>\n",
       "      <td>2</td>\n",
       "      <td>James</td>\n",
       "      <td>US</td>\n",
       "      <td>M</td>\n",
       "      <td>2</td>\n",
       "      <td>26</td>\n",
       "    </tr>\n",
       "    <tr>\n",
       "      <td>3</td>\n",
       "      <td>Yerin</td>\n",
       "      <td>KOR</td>\n",
       "      <td>F</td>\n",
       "      <td>5</td>\n",
       "      <td>33</td>\n",
       "    </tr>\n",
       "    <tr>\n",
       "      <td>4</td>\n",
       "      <td>Min</td>\n",
       "      <td>KOR</td>\n",
       "      <td>M</td>\n",
       "      <td>4</td>\n",
       "      <td>67</td>\n",
       "    </tr>\n",
       "    <tr>\n",
       "      <td>5</td>\n",
       "      <td>Katherine</td>\n",
       "      <td>GB</td>\n",
       "      <td>F</td>\n",
       "      <td>3</td>\n",
       "      <td>29</td>\n",
       "    </tr>\n",
       "    <tr>\n",
       "      <td>6</td>\n",
       "      <td>John</td>\n",
       "      <td>US</td>\n",
       "      <td>M</td>\n",
       "      <td>5</td>\n",
       "      <td>54</td>\n",
       "    </tr>\n",
       "    <tr>\n",
       "      <td>7</td>\n",
       "      <td>Park</td>\n",
       "      <td>KOR</td>\n",
       "      <td>M</td>\n",
       "      <td>7</td>\n",
       "      <td>21</td>\n",
       "    </tr>\n",
       "    <tr>\n",
       "      <td>8</td>\n",
       "      <td>Maria</td>\n",
       "      <td>US</td>\n",
       "      <td>F</td>\n",
       "      <td>2</td>\n",
       "      <td>77</td>\n",
       "    </tr>\n",
       "    <tr>\n",
       "      <td>9</td>\n",
       "      <td>Derik</td>\n",
       "      <td>GB</td>\n",
       "      <td>M</td>\n",
       "      <td>4</td>\n",
       "      <td>29</td>\n",
       "    </tr>\n",
       "    <tr>\n",
       "      <td>10</td>\n",
       "      <td>Jin</td>\n",
       "      <td>KOR</td>\n",
       "      <td>F</td>\n",
       "      <td>5</td>\n",
       "      <td>16</td>\n",
       "    </tr>\n",
       "  </tbody>\n",
       "</table>\n",
       "</div>"
      ],
      "text/plain": [
       "   customer_name cust_country gender  grade  age\n",
       "0          Alice           US      F      3   25\n",
       "1            Tom           GB      M      1   34\n",
       "2          James           US      M      2   26\n",
       "3          Yerin          KOR      F      5   33\n",
       "4            Min          KOR      M      4   67\n",
       "5      Katherine           GB      F      3   29\n",
       "6           John           US      M      5   54\n",
       "7           Park          KOR      M      7   21\n",
       "8          Maria           US      F      2   77\n",
       "9          Derik           GB      M      4   29\n",
       "10           Jin          KOR      F      5   16"
      ]
     },
     "execution_count": 5,
     "metadata": {},
     "output_type": "execute_result"
    }
   ],
   "source": [
    "cust_group.head()"
   ]
  },
  {
   "cell_type": "markdown",
   "metadata": {},
   "source": [
    "#### 개별 aggregation 컬럼 및 aggregation 연산별로 API 호출"
   ]
  },
  {
   "cell_type": "code",
   "execution_count": 6,
   "metadata": {
    "ExecuteTime": {
     "end_time": "2021-01-04T04:43:35.378530Z",
     "start_time": "2021-01-04T04:43:35.373442Z"
    }
   },
   "outputs": [
    {
     "data": {
      "text/plain": [
       "cust_country\n",
       "GB      8\n",
       "KOR    21\n",
       "US     12\n",
       "Name: grade, dtype: int64"
      ]
     },
     "execution_count": 6,
     "metadata": {},
     "output_type": "execute_result"
    }
   ],
   "source": [
    "cust_group['grade'].sum()"
   ]
  },
  {
   "cell_type": "code",
   "execution_count": 7,
   "metadata": {
    "ExecuteTime": {
     "end_time": "2021-01-04T04:44:09.975349Z",
     "start_time": "2021-01-04T04:44:09.967410Z"
    }
   },
   "outputs": [
    {
     "data": {
      "text/plain": [
       "cust_country\n",
       "GB      8\n",
       "KOR    21\n",
       "US     12\n",
       "Name: grade, dtype: int64"
      ]
     },
     "execution_count": 7,
     "metadata": {},
     "output_type": "execute_result"
    }
   ],
   "source": [
    "# 같은 의미\n",
    "customer.groupby('cust_country')['grade'].sum()"
   ]
  },
  {
   "cell_type": "code",
   "execution_count": 8,
   "metadata": {
    "ExecuteTime": {
     "end_time": "2021-01-04T04:44:43.271888Z",
     "start_time": "2021-01-04T04:44:43.261830Z"
    }
   },
   "outputs": [
    {
     "data": {
      "text/html": [
       "<div>\n",
       "<style scoped>\n",
       "    .dataframe tbody tr th:only-of-type {\n",
       "        vertical-align: middle;\n",
       "    }\n",
       "\n",
       "    .dataframe tbody tr th {\n",
       "        vertical-align: top;\n",
       "    }\n",
       "\n",
       "    .dataframe thead th {\n",
       "        text-align: right;\n",
       "    }\n",
       "</style>\n",
       "<table border=\"1\" class=\"dataframe\">\n",
       "  <thead>\n",
       "    <tr style=\"text-align: right;\">\n",
       "      <th></th>\n",
       "      <th>sum_grade</th>\n",
       "      <th>max_grade</th>\n",
       "    </tr>\n",
       "    <tr>\n",
       "      <th>cust_country</th>\n",
       "      <th></th>\n",
       "      <th></th>\n",
       "    </tr>\n",
       "  </thead>\n",
       "  <tbody>\n",
       "    <tr>\n",
       "      <td>GB</td>\n",
       "      <td>8</td>\n",
       "      <td>4</td>\n",
       "    </tr>\n",
       "    <tr>\n",
       "      <td>KOR</td>\n",
       "      <td>21</td>\n",
       "      <td>7</td>\n",
       "    </tr>\n",
       "    <tr>\n",
       "      <td>US</td>\n",
       "      <td>12</td>\n",
       "      <td>5</td>\n",
       "    </tr>\n",
       "  </tbody>\n",
       "</table>\n",
       "</div>"
      ],
      "text/plain": [
       "              sum_grade  max_grade\n",
       "cust_country                      \n",
       "GB                    8          4\n",
       "KOR                  21          7\n",
       "US                   12          5"
      ]
     },
     "execution_count": 8,
     "metadata": {},
     "output_type": "execute_result"
    }
   ],
   "source": [
    "cust_agg = pd.DataFrame()\n",
    "cust_agg['sum_grade'] = cust_group['grade'].sum()\n",
    "cust_agg['max_grade'] = cust_group['grade'].max()\n",
    "cust_agg.head()"
   ]
  },
  {
   "cell_type": "code",
   "execution_count": 9,
   "metadata": {
    "ExecuteTime": {
     "end_time": "2021-01-04T04:45:36.169105Z",
     "start_time": "2021-01-04T04:45:36.158508Z"
    }
   },
   "outputs": [
    {
     "data": {
      "text/html": [
       "<div>\n",
       "<style scoped>\n",
       "    .dataframe tbody tr th:only-of-type {\n",
       "        vertical-align: middle;\n",
       "    }\n",
       "\n",
       "    .dataframe tbody tr th {\n",
       "        vertical-align: top;\n",
       "    }\n",
       "\n",
       "    .dataframe thead th {\n",
       "        text-align: right;\n",
       "    }\n",
       "</style>\n",
       "<table border=\"1\" class=\"dataframe\">\n",
       "  <thead>\n",
       "    <tr style=\"text-align: right;\">\n",
       "      <th></th>\n",
       "      <th>sum_grade</th>\n",
       "      <th>max_grade</th>\n",
       "      <th>avg_age</th>\n",
       "      <th>max_age</th>\n",
       "    </tr>\n",
       "    <tr>\n",
       "      <th>cust_country</th>\n",
       "      <th></th>\n",
       "      <th></th>\n",
       "      <th></th>\n",
       "      <th></th>\n",
       "    </tr>\n",
       "  </thead>\n",
       "  <tbody>\n",
       "    <tr>\n",
       "      <td>GB</td>\n",
       "      <td>8</td>\n",
       "      <td>4</td>\n",
       "      <td>30.666667</td>\n",
       "      <td>34</td>\n",
       "    </tr>\n",
       "    <tr>\n",
       "      <td>KOR</td>\n",
       "      <td>21</td>\n",
       "      <td>7</td>\n",
       "      <td>34.250000</td>\n",
       "      <td>67</td>\n",
       "    </tr>\n",
       "    <tr>\n",
       "      <td>US</td>\n",
       "      <td>12</td>\n",
       "      <td>5</td>\n",
       "      <td>45.500000</td>\n",
       "      <td>77</td>\n",
       "    </tr>\n",
       "  </tbody>\n",
       "</table>\n",
       "</div>"
      ],
      "text/plain": [
       "              sum_grade  max_grade    avg_age  max_age\n",
       "cust_country                                          \n",
       "GB                    8          4  30.666667       34\n",
       "KOR                  21          7  34.250000       67\n",
       "US                   12          5  45.500000       77"
      ]
     },
     "execution_count": 9,
     "metadata": {},
     "output_type": "execute_result"
    }
   ],
   "source": [
    "cust_agg['avg_age'] = cust_group['age'].mean()\n",
    "cust_agg['max_age'] = cust_group['age'].max()\n",
    "cust_agg.head()"
   ]
  },
  {
   "cell_type": "code",
   "execution_count": 10,
   "metadata": {
    "ExecuteTime": {
     "end_time": "2021-01-04T04:45:47.008069Z",
     "start_time": "2021-01-04T04:45:46.999482Z"
    }
   },
   "outputs": [
    {
     "name": "stdout",
     "output_type": "stream",
     "text": [
      "cust_country\n"
     ]
    },
    {
     "data": {
      "text/html": [
       "<div>\n",
       "<style scoped>\n",
       "    .dataframe tbody tr th:only-of-type {\n",
       "        vertical-align: middle;\n",
       "    }\n",
       "\n",
       "    .dataframe tbody tr th {\n",
       "        vertical-align: top;\n",
       "    }\n",
       "\n",
       "    .dataframe thead th {\n",
       "        text-align: right;\n",
       "    }\n",
       "</style>\n",
       "<table border=\"1\" class=\"dataframe\">\n",
       "  <thead>\n",
       "    <tr style=\"text-align: right;\">\n",
       "      <th></th>\n",
       "      <th>cust_country</th>\n",
       "      <th>sum_grade</th>\n",
       "      <th>max_grade</th>\n",
       "      <th>avg_age</th>\n",
       "      <th>max_age</th>\n",
       "    </tr>\n",
       "  </thead>\n",
       "  <tbody>\n",
       "    <tr>\n",
       "      <td>0</td>\n",
       "      <td>GB</td>\n",
       "      <td>8</td>\n",
       "      <td>4</td>\n",
       "      <td>30.666667</td>\n",
       "      <td>34</td>\n",
       "    </tr>\n",
       "    <tr>\n",
       "      <td>1</td>\n",
       "      <td>KOR</td>\n",
       "      <td>21</td>\n",
       "      <td>7</td>\n",
       "      <td>34.250000</td>\n",
       "      <td>67</td>\n",
       "    </tr>\n",
       "    <tr>\n",
       "      <td>2</td>\n",
       "      <td>US</td>\n",
       "      <td>12</td>\n",
       "      <td>5</td>\n",
       "      <td>45.500000</td>\n",
       "      <td>77</td>\n",
       "    </tr>\n",
       "  </tbody>\n",
       "</table>\n",
       "</div>"
      ],
      "text/plain": [
       "  cust_country  sum_grade  max_grade    avg_age  max_age\n",
       "0           GB          8          4  30.666667       34\n",
       "1          KOR         21          7  34.250000       67\n",
       "2           US         12          5  45.500000       77"
      ]
     },
     "execution_count": 10,
     "metadata": {},
     "output_type": "execute_result"
    }
   ],
   "source": [
    "# group by 키 컬럼은 Pandas DataFrame의 인덱스로 변환. \n",
    "print(cust_agg.index.name)\n",
    "cust_agg = cust_agg.reset_index()\n",
    "cust_agg.head()"
   ]
  },
  {
   "cell_type": "markdown",
   "metadata": {},
   "source": [
    "#### agg()함수를 활용. agg() 인자로 aggregation 함수 리스트를 입력. 여전히 aggregation 컬럼별로 API 적용 "
   ]
  },
  {
   "cell_type": "code",
   "execution_count": 11,
   "metadata": {
    "ExecuteTime": {
     "end_time": "2021-01-04T04:46:50.257237Z",
     "start_time": "2021-01-04T04:46:50.245119Z"
    }
   },
   "outputs": [
    {
     "name": "stdout",
     "output_type": "stream",
     "text": [
      "              sum  max\n",
      "cust_country          \n",
      "GB              8    4\n",
      "KOR            21    7\n",
      "US             12    5\n",
      "                   mean  max\n",
      "cust_country                \n",
      "GB            30.666667   34\n",
      "KOR           34.250000   67\n",
      "US            45.500000   77\n"
     ]
    }
   ],
   "source": [
    "cust_agg1 = cust_group['grade'].agg(['sum', 'max'])\n",
    "cust_agg2 = cust_group['age'].agg(['mean', 'max'])\n",
    "print(cust_agg1.head())\n",
    "print(cust_agg2.head())"
   ]
  },
  {
   "cell_type": "code",
   "execution_count": 12,
   "metadata": {
    "ExecuteTime": {
     "end_time": "2021-01-04T04:47:10.096573Z",
     "start_time": "2021-01-04T04:47:10.085118Z"
    }
   },
   "outputs": [
    {
     "data": {
      "text/html": [
       "<div>\n",
       "<style scoped>\n",
       "    .dataframe tbody tr th:only-of-type {\n",
       "        vertical-align: middle;\n",
       "    }\n",
       "\n",
       "    .dataframe tbody tr th {\n",
       "        vertical-align: top;\n",
       "    }\n",
       "\n",
       "    .dataframe thead th {\n",
       "        text-align: right;\n",
       "    }\n",
       "</style>\n",
       "<table border=\"1\" class=\"dataframe\">\n",
       "  <thead>\n",
       "    <tr style=\"text-align: right;\">\n",
       "      <th></th>\n",
       "      <th>sum</th>\n",
       "      <th>max_x</th>\n",
       "      <th>mean</th>\n",
       "      <th>max_y</th>\n",
       "    </tr>\n",
       "    <tr>\n",
       "      <th>cust_country</th>\n",
       "      <th></th>\n",
       "      <th></th>\n",
       "      <th></th>\n",
       "      <th></th>\n",
       "    </tr>\n",
       "  </thead>\n",
       "  <tbody>\n",
       "    <tr>\n",
       "      <td>GB</td>\n",
       "      <td>8</td>\n",
       "      <td>4</td>\n",
       "      <td>30.666667</td>\n",
       "      <td>34</td>\n",
       "    </tr>\n",
       "    <tr>\n",
       "      <td>KOR</td>\n",
       "      <td>21</td>\n",
       "      <td>7</td>\n",
       "      <td>34.250000</td>\n",
       "      <td>67</td>\n",
       "    </tr>\n",
       "    <tr>\n",
       "      <td>US</td>\n",
       "      <td>12</td>\n",
       "      <td>5</td>\n",
       "      <td>45.500000</td>\n",
       "      <td>77</td>\n",
       "    </tr>\n",
       "  </tbody>\n",
       "</table>\n",
       "</div>"
      ],
      "text/plain": [
       "              sum  max_x       mean  max_y\n",
       "cust_country                              \n",
       "GB              8      4  30.666667     34\n",
       "KOR            21      7  34.250000     67\n",
       "US             12      5  45.500000     77"
      ]
     },
     "execution_count": 12,
     "metadata": {},
     "output_type": "execute_result"
    }
   ],
   "source": [
    "cust_agg = cust_agg1.merge(cust_agg2, on='cust_country', how='left')\n",
    "cust_agg.head()"
   ]
  },
  {
   "cell_type": "code",
   "execution_count": 13,
   "metadata": {
    "ExecuteTime": {
     "end_time": "2021-01-04T04:48:00.868562Z",
     "start_time": "2021-01-04T04:48:00.852575Z"
    }
   },
   "outputs": [
    {
     "data": {
      "text/html": [
       "<div>\n",
       "<style scoped>\n",
       "    .dataframe tbody tr th:only-of-type {\n",
       "        vertical-align: middle;\n",
       "    }\n",
       "\n",
       "    .dataframe tbody tr th {\n",
       "        vertical-align: top;\n",
       "    }\n",
       "\n",
       "    .dataframe thead th {\n",
       "        text-align: right;\n",
       "    }\n",
       "</style>\n",
       "<table border=\"1\" class=\"dataframe\">\n",
       "  <thead>\n",
       "    <tr style=\"text-align: right;\">\n",
       "      <th></th>\n",
       "      <th>sum_grade</th>\n",
       "      <th>max_grade</th>\n",
       "      <th>avg_age</th>\n",
       "      <th>max_age</th>\n",
       "    </tr>\n",
       "    <tr>\n",
       "      <th>cust_country</th>\n",
       "      <th></th>\n",
       "      <th></th>\n",
       "      <th></th>\n",
       "      <th></th>\n",
       "    </tr>\n",
       "  </thead>\n",
       "  <tbody>\n",
       "    <tr>\n",
       "      <td>GB</td>\n",
       "      <td>8</td>\n",
       "      <td>4</td>\n",
       "      <td>30.666667</td>\n",
       "      <td>34</td>\n",
       "    </tr>\n",
       "    <tr>\n",
       "      <td>KOR</td>\n",
       "      <td>21</td>\n",
       "      <td>7</td>\n",
       "      <td>34.250000</td>\n",
       "      <td>67</td>\n",
       "    </tr>\n",
       "    <tr>\n",
       "      <td>US</td>\n",
       "      <td>12</td>\n",
       "      <td>5</td>\n",
       "      <td>45.500000</td>\n",
       "      <td>77</td>\n",
       "    </tr>\n",
       "  </tbody>\n",
       "</table>\n",
       "</div>"
      ],
      "text/plain": [
       "              sum_grade  max_grade    avg_age  max_age\n",
       "cust_country                                          \n",
       "GB                    8          4  30.666667       34\n",
       "KOR                  21          7  34.250000       67\n",
       "US                   12          5  45.500000       77"
      ]
     },
     "execution_count": 13,
     "metadata": {},
     "output_type": "execute_result"
    }
   ],
   "source": [
    "cust_agg = pd.DataFrame()\n",
    "cust_agg[['sum_grade', 'max_grade']] = cust_group['grade'].agg(['sum', 'max'])\n",
    "cust_agg[['avg_age', 'max_age']] = cust_group['age'].agg(['mean', 'max'])\n",
    "cust_agg.head()"
   ]
  },
  {
   "cell_type": "markdown",
   "metadata": {},
   "source": [
    "#### agg()에 인자로 Aggregation 컬럼값과 Aggregation 함수 리스트를 기재한 dictinary값 입력\n",
    "보편적으로 이 방법을 사용한다."
   ]
  },
  {
   "cell_type": "code",
   "execution_count": 14,
   "metadata": {
    "ExecuteTime": {
     "end_time": "2021-01-04T04:48:43.968886Z",
     "start_time": "2021-01-04T04:48:43.951580Z"
    }
   },
   "outputs": [
    {
     "data": {
      "text/html": [
       "<div>\n",
       "<style scoped>\n",
       "    .dataframe tbody tr th:only-of-type {\n",
       "        vertical-align: middle;\n",
       "    }\n",
       "\n",
       "    .dataframe tbody tr th {\n",
       "        vertical-align: top;\n",
       "    }\n",
       "\n",
       "    .dataframe thead tr th {\n",
       "        text-align: left;\n",
       "    }\n",
       "\n",
       "    .dataframe thead tr:last-of-type th {\n",
       "        text-align: right;\n",
       "    }\n",
       "</style>\n",
       "<table border=\"1\" class=\"dataframe\">\n",
       "  <thead>\n",
       "    <tr>\n",
       "      <th></th>\n",
       "      <th colspan=\"2\" halign=\"left\">grade</th>\n",
       "      <th colspan=\"2\" halign=\"left\">age</th>\n",
       "    </tr>\n",
       "    <tr>\n",
       "      <th></th>\n",
       "      <th>sum</th>\n",
       "      <th>max</th>\n",
       "      <th>mean</th>\n",
       "      <th>max</th>\n",
       "    </tr>\n",
       "    <tr>\n",
       "      <th>cust_country</th>\n",
       "      <th></th>\n",
       "      <th></th>\n",
       "      <th></th>\n",
       "      <th></th>\n",
       "    </tr>\n",
       "  </thead>\n",
       "  <tbody>\n",
       "    <tr>\n",
       "      <td>GB</td>\n",
       "      <td>8</td>\n",
       "      <td>4</td>\n",
       "      <td>30.666667</td>\n",
       "      <td>34</td>\n",
       "    </tr>\n",
       "    <tr>\n",
       "      <td>KOR</td>\n",
       "      <td>21</td>\n",
       "      <td>7</td>\n",
       "      <td>34.250000</td>\n",
       "      <td>67</td>\n",
       "    </tr>\n",
       "    <tr>\n",
       "      <td>US</td>\n",
       "      <td>12</td>\n",
       "      <td>5</td>\n",
       "      <td>45.500000</td>\n",
       "      <td>77</td>\n",
       "    </tr>\n",
       "  </tbody>\n",
       "</table>\n",
       "</div>"
      ],
      "text/plain": [
       "             grade            age    \n",
       "               sum max       mean max\n",
       "cust_country                         \n",
       "GB               8   4  30.666667  34\n",
       "KOR             21   7  34.250000  67\n",
       "US              12   5  45.500000  77"
      ]
     },
     "execution_count": 14,
     "metadata": {},
     "output_type": "execute_result"
    }
   ],
   "source": [
    "agg_dict = {\n",
    "    'grade':['sum', 'max'],\n",
    "    'age':['mean', 'max']\n",
    "}\n",
    "cust_agg = cust_group.agg(agg_dict)\n",
    "cust_agg.head()"
   ]
  },
  {
   "cell_type": "code",
   "execution_count": 16,
   "metadata": {
    "ExecuteTime": {
     "end_time": "2021-01-04T04:50:26.986127Z",
     "start_time": "2021-01-04T04:50:26.978358Z"
    }
   },
   "outputs": [
    {
     "name": "stdout",
     "output_type": "stream",
     "text": [
      "MultiIndex([('grade',  'sum'),\n",
      "            ('grade',  'max'),\n",
      "            (  'age', 'mean'),\n",
      "            (  'age',  'max')],\n",
      "           )\n"
     ]
    },
    {
     "data": {
      "text/plain": [
       "['grade_sum', 'grade_max', 'age_mean', 'age_max']"
      ]
     },
     "execution_count": 16,
     "metadata": {},
     "output_type": "execute_result"
    }
   ],
   "source": [
    "print(cust_agg.columns)\n",
    "[('_').join(column) for column in cust_agg.columns]"
   ]
  },
  {
   "cell_type": "markdown",
   "metadata": {},
   "source": [
    "#### groupby 수행 결과 DataFrame의 컬럼명 변경."
   ]
  },
  {
   "cell_type": "code",
   "execution_count": 17,
   "metadata": {
    "ExecuteTime": {
     "end_time": "2021-01-04T04:50:43.211143Z",
     "start_time": "2021-01-04T04:50:43.203530Z"
    }
   },
   "outputs": [
    {
     "data": {
      "text/html": [
       "<div>\n",
       "<style scoped>\n",
       "    .dataframe tbody tr th:only-of-type {\n",
       "        vertical-align: middle;\n",
       "    }\n",
       "\n",
       "    .dataframe tbody tr th {\n",
       "        vertical-align: top;\n",
       "    }\n",
       "\n",
       "    .dataframe thead th {\n",
       "        text-align: right;\n",
       "    }\n",
       "</style>\n",
       "<table border=\"1\" class=\"dataframe\">\n",
       "  <thead>\n",
       "    <tr style=\"text-align: right;\">\n",
       "      <th></th>\n",
       "      <th>grade_sum</th>\n",
       "      <th>grade_max</th>\n",
       "      <th>age_mean</th>\n",
       "      <th>age_max</th>\n",
       "    </tr>\n",
       "    <tr>\n",
       "      <th>cust_country</th>\n",
       "      <th></th>\n",
       "      <th></th>\n",
       "      <th></th>\n",
       "      <th></th>\n",
       "    </tr>\n",
       "  </thead>\n",
       "  <tbody>\n",
       "    <tr>\n",
       "      <td>GB</td>\n",
       "      <td>8</td>\n",
       "      <td>4</td>\n",
       "      <td>30.666667</td>\n",
       "      <td>34</td>\n",
       "    </tr>\n",
       "    <tr>\n",
       "      <td>KOR</td>\n",
       "      <td>21</td>\n",
       "      <td>7</td>\n",
       "      <td>34.250000</td>\n",
       "      <td>67</td>\n",
       "    </tr>\n",
       "    <tr>\n",
       "      <td>US</td>\n",
       "      <td>12</td>\n",
       "      <td>5</td>\n",
       "      <td>45.500000</td>\n",
       "      <td>77</td>\n",
       "    </tr>\n",
       "  </tbody>\n",
       "</table>\n",
       "</div>"
      ],
      "text/plain": [
       "              grade_sum  grade_max   age_mean  age_max\n",
       "cust_country                                          \n",
       "GB                    8          4  30.666667       34\n",
       "KOR                  21          7  34.250000       67\n",
       "US                   12          5  45.500000       77"
      ]
     },
     "execution_count": 17,
     "metadata": {},
     "output_type": "execute_result"
    }
   ],
   "source": [
    "cust_agg.columns = [('_').join(column) for column in cust_agg.columns]\n",
    "cust_agg.head()"
   ]
  },
  {
   "cell_type": "markdown",
   "metadata": {},
   "source": [
    "### Pandas Group by Case When \n",
    "Pandas는 Group by case when 구문을 지원하지 않는다.\n",
    "#### SQL\n",
    "```sql\n",
    "SELECT cust_country, sum(grade) total_sum,  \n",
    "Sum(case when gender==‘M’ then grade end) male_sum,  \n",
    "Sum(case when gender==‘F’ then grade end) female_sum  FROM customer GROUP BY cust_country\n",
    "```\n",
    "#### case when 조건으로 각각 filtering하여 별도의 DataFrame생성"
   ]
  },
  {
   "cell_type": "code",
   "execution_count": 18,
   "metadata": {
    "ExecuteTime": {
     "end_time": "2021-01-04T05:32:24.594959Z",
     "start_time": "2021-01-04T05:32:24.584362Z"
    }
   },
   "outputs": [
    {
     "data": {
      "text/html": [
       "<div>\n",
       "<style scoped>\n",
       "    .dataframe tbody tr th:only-of-type {\n",
       "        vertical-align: middle;\n",
       "    }\n",
       "\n",
       "    .dataframe tbody tr th {\n",
       "        vertical-align: top;\n",
       "    }\n",
       "\n",
       "    .dataframe thead th {\n",
       "        text-align: right;\n",
       "    }\n",
       "</style>\n",
       "<table border=\"1\" class=\"dataframe\">\n",
       "  <thead>\n",
       "    <tr style=\"text-align: right;\">\n",
       "      <th></th>\n",
       "      <th>customer_name</th>\n",
       "      <th>cust_country</th>\n",
       "      <th>gender</th>\n",
       "      <th>grade</th>\n",
       "      <th>age</th>\n",
       "    </tr>\n",
       "  </thead>\n",
       "  <tbody>\n",
       "    <tr>\n",
       "      <td>1</td>\n",
       "      <td>Tom</td>\n",
       "      <td>GB</td>\n",
       "      <td>M</td>\n",
       "      <td>1</td>\n",
       "      <td>34</td>\n",
       "    </tr>\n",
       "    <tr>\n",
       "      <td>2</td>\n",
       "      <td>James</td>\n",
       "      <td>US</td>\n",
       "      <td>M</td>\n",
       "      <td>2</td>\n",
       "      <td>26</td>\n",
       "    </tr>\n",
       "    <tr>\n",
       "      <td>4</td>\n",
       "      <td>Min</td>\n",
       "      <td>KOR</td>\n",
       "      <td>M</td>\n",
       "      <td>4</td>\n",
       "      <td>67</td>\n",
       "    </tr>\n",
       "    <tr>\n",
       "      <td>6</td>\n",
       "      <td>John</td>\n",
       "      <td>US</td>\n",
       "      <td>M</td>\n",
       "      <td>5</td>\n",
       "      <td>54</td>\n",
       "    </tr>\n",
       "    <tr>\n",
       "      <td>7</td>\n",
       "      <td>Park</td>\n",
       "      <td>KOR</td>\n",
       "      <td>M</td>\n",
       "      <td>7</td>\n",
       "      <td>21</td>\n",
       "    </tr>\n",
       "    <tr>\n",
       "      <td>9</td>\n",
       "      <td>Derik</td>\n",
       "      <td>GB</td>\n",
       "      <td>M</td>\n",
       "      <td>4</td>\n",
       "      <td>29</td>\n",
       "    </tr>\n",
       "  </tbody>\n",
       "</table>\n",
       "</div>"
      ],
      "text/plain": [
       "  customer_name cust_country gender  grade  age\n",
       "1           Tom           GB      M      1   34\n",
       "2         James           US      M      2   26\n",
       "4           Min          KOR      M      4   67\n",
       "6          John           US      M      5   54\n",
       "7          Park          KOR      M      7   21\n",
       "9         Derik           GB      M      4   29"
      ]
     },
     "execution_count": 18,
     "metadata": {},
     "output_type": "execute_result"
    }
   ],
   "source": [
    "cond_male = customer['gender'] == 'M'\n",
    "cond_female = customer['gender'] == 'F'\n",
    "cust_male = customer[cond_male]\n",
    "cust_female = customer[cond_female]\n",
    "cust_male"
   ]
  },
  {
   "cell_type": "code",
   "execution_count": 19,
   "metadata": {
    "ExecuteTime": {
     "end_time": "2021-01-04T05:32:32.937593Z",
     "start_time": "2021-01-04T05:32:32.930550Z"
    }
   },
   "outputs": [
    {
     "data": {
      "text/html": [
       "<div>\n",
       "<style scoped>\n",
       "    .dataframe tbody tr th:only-of-type {\n",
       "        vertical-align: middle;\n",
       "    }\n",
       "\n",
       "    .dataframe tbody tr th {\n",
       "        vertical-align: top;\n",
       "    }\n",
       "\n",
       "    .dataframe thead th {\n",
       "        text-align: right;\n",
       "    }\n",
       "</style>\n",
       "<table border=\"1\" class=\"dataframe\">\n",
       "  <thead>\n",
       "    <tr style=\"text-align: right;\">\n",
       "      <th></th>\n",
       "      <th>customer_name</th>\n",
       "      <th>cust_country</th>\n",
       "      <th>gender</th>\n",
       "      <th>grade</th>\n",
       "      <th>age</th>\n",
       "    </tr>\n",
       "  </thead>\n",
       "  <tbody>\n",
       "    <tr>\n",
       "      <td>0</td>\n",
       "      <td>Alice</td>\n",
       "      <td>US</td>\n",
       "      <td>F</td>\n",
       "      <td>3</td>\n",
       "      <td>25</td>\n",
       "    </tr>\n",
       "    <tr>\n",
       "      <td>3</td>\n",
       "      <td>Yerin</td>\n",
       "      <td>KOR</td>\n",
       "      <td>F</td>\n",
       "      <td>5</td>\n",
       "      <td>33</td>\n",
       "    </tr>\n",
       "    <tr>\n",
       "      <td>5</td>\n",
       "      <td>Katherine</td>\n",
       "      <td>GB</td>\n",
       "      <td>F</td>\n",
       "      <td>3</td>\n",
       "      <td>29</td>\n",
       "    </tr>\n",
       "    <tr>\n",
       "      <td>8</td>\n",
       "      <td>Maria</td>\n",
       "      <td>US</td>\n",
       "      <td>F</td>\n",
       "      <td>2</td>\n",
       "      <td>77</td>\n",
       "    </tr>\n",
       "    <tr>\n",
       "      <td>10</td>\n",
       "      <td>Jin</td>\n",
       "      <td>KOR</td>\n",
       "      <td>F</td>\n",
       "      <td>5</td>\n",
       "      <td>16</td>\n",
       "    </tr>\n",
       "  </tbody>\n",
       "</table>\n",
       "</div>"
      ],
      "text/plain": [
       "   customer_name cust_country gender  grade  age\n",
       "0          Alice           US      F      3   25\n",
       "3          Yerin          KOR      F      5   33\n",
       "5      Katherine           GB      F      3   29\n",
       "8          Maria           US      F      2   77\n",
       "10           Jin          KOR      F      5   16"
      ]
     },
     "execution_count": 19,
     "metadata": {},
     "output_type": "execute_result"
    }
   ],
   "source": [
    "cust_female"
   ]
  },
  {
   "cell_type": "markdown",
   "metadata": {},
   "source": [
    "#### 원본 데이터에 cust_country로 groupby 수행."
   ]
  },
  {
   "cell_type": "code",
   "execution_count": 21,
   "metadata": {
    "ExecuteTime": {
     "end_time": "2021-01-04T05:33:14.436357Z",
     "start_time": "2021-01-04T05:33:14.427052Z"
    }
   },
   "outputs": [
    {
     "data": {
      "text/html": [
       "<div>\n",
       "<style scoped>\n",
       "    .dataframe tbody tr th:only-of-type {\n",
       "        vertical-align: middle;\n",
       "    }\n",
       "\n",
       "    .dataframe tbody tr th {\n",
       "        vertical-align: top;\n",
       "    }\n",
       "\n",
       "    .dataframe thead th {\n",
       "        text-align: right;\n",
       "    }\n",
       "</style>\n",
       "<table border=\"1\" class=\"dataframe\">\n",
       "  <thead>\n",
       "    <tr style=\"text-align: right;\">\n",
       "      <th></th>\n",
       "      <th>cust_country</th>\n",
       "      <th>grade</th>\n",
       "    </tr>\n",
       "  </thead>\n",
       "  <tbody>\n",
       "    <tr>\n",
       "      <td>0</td>\n",
       "      <td>GB</td>\n",
       "      <td>8</td>\n",
       "    </tr>\n",
       "    <tr>\n",
       "      <td>1</td>\n",
       "      <td>KOR</td>\n",
       "      <td>21</td>\n",
       "    </tr>\n",
       "    <tr>\n",
       "      <td>2</td>\n",
       "      <td>US</td>\n",
       "      <td>12</td>\n",
       "    </tr>\n",
       "  </tbody>\n",
       "</table>\n",
       "</div>"
      ],
      "text/plain": [
       "  cust_country  grade\n",
       "0           GB      8\n",
       "1          KOR     21\n",
       "2           US     12"
      ]
     },
     "execution_count": 21,
     "metadata": {},
     "output_type": "execute_result"
    }
   ],
   "source": [
    "cust_agg = customer.groupby('cust_country')['grade'].sum()\n",
    "cust_agg = cust_agg.reset_index()\n",
    "cust_agg.head()"
   ]
  },
  {
   "cell_type": "markdown",
   "metadata": {},
   "source": [
    "#### filtering된 데이터에 cust_country로 groupby 수행. "
   ]
  },
  {
   "cell_type": "code",
   "execution_count": 22,
   "metadata": {
    "ExecuteTime": {
     "end_time": "2021-01-04T05:33:54.089784Z",
     "start_time": "2021-01-04T05:33:54.075730Z"
    }
   },
   "outputs": [
    {
     "data": {
      "text/html": [
       "<div>\n",
       "<style scoped>\n",
       "    .dataframe tbody tr th:only-of-type {\n",
       "        vertical-align: middle;\n",
       "    }\n",
       "\n",
       "    .dataframe tbody tr th {\n",
       "        vertical-align: top;\n",
       "    }\n",
       "\n",
       "    .dataframe thead th {\n",
       "        text-align: right;\n",
       "    }\n",
       "</style>\n",
       "<table border=\"1\" class=\"dataframe\">\n",
       "  <thead>\n",
       "    <tr style=\"text-align: right;\">\n",
       "      <th></th>\n",
       "      <th>cust_country</th>\n",
       "      <th>grade</th>\n",
       "    </tr>\n",
       "  </thead>\n",
       "  <tbody>\n",
       "    <tr>\n",
       "      <td>0</td>\n",
       "      <td>GB</td>\n",
       "      <td>5</td>\n",
       "    </tr>\n",
       "    <tr>\n",
       "      <td>1</td>\n",
       "      <td>KOR</td>\n",
       "      <td>11</td>\n",
       "    </tr>\n",
       "    <tr>\n",
       "      <td>2</td>\n",
       "      <td>US</td>\n",
       "      <td>7</td>\n",
       "    </tr>\n",
       "  </tbody>\n",
       "</table>\n",
       "</div>"
      ],
      "text/plain": [
       "  cust_country  grade\n",
       "0           GB      5\n",
       "1          KOR     11\n",
       "2           US      7"
      ]
     },
     "execution_count": 22,
     "metadata": {},
     "output_type": "execute_result"
    }
   ],
   "source": [
    "cust_male_agg = cust_male.groupby('cust_country')['grade'].sum()\n",
    "cust_female_agg = cust_female.groupby('cust_country')['grade'].sum()\n",
    "cust_male_agg = cust_male_agg.reset_index()\n",
    "cust_female_agg = cust_female_agg.reset_index()\n",
    "cust_male_agg"
   ]
  },
  {
   "cell_type": "markdown",
   "metadata": {},
   "source": [
    "#### 원본 데이터에 groupby 된 데이터 세트와 filtering된 데이터에 groupby 된 데이터 세트를 조인. "
   ]
  },
  {
   "cell_type": "code",
   "execution_count": 23,
   "metadata": {
    "ExecuteTime": {
     "end_time": "2021-01-04T05:34:40.649861Z",
     "start_time": "2021-01-04T05:34:40.636667Z"
    }
   },
   "outputs": [
    {
     "data": {
      "text/html": [
       "<div>\n",
       "<style scoped>\n",
       "    .dataframe tbody tr th:only-of-type {\n",
       "        vertical-align: middle;\n",
       "    }\n",
       "\n",
       "    .dataframe tbody tr th {\n",
       "        vertical-align: top;\n",
       "    }\n",
       "\n",
       "    .dataframe thead th {\n",
       "        text-align: right;\n",
       "    }\n",
       "</style>\n",
       "<table border=\"1\" class=\"dataframe\">\n",
       "  <thead>\n",
       "    <tr style=\"text-align: right;\">\n",
       "      <th></th>\n",
       "      <th>cust_country</th>\n",
       "      <th>grade_x</th>\n",
       "      <th>grade_y</th>\n",
       "      <th>grade</th>\n",
       "    </tr>\n",
       "  </thead>\n",
       "  <tbody>\n",
       "    <tr>\n",
       "      <td>0</td>\n",
       "      <td>GB</td>\n",
       "      <td>8</td>\n",
       "      <td>5</td>\n",
       "      <td>3</td>\n",
       "    </tr>\n",
       "    <tr>\n",
       "      <td>1</td>\n",
       "      <td>KOR</td>\n",
       "      <td>21</td>\n",
       "      <td>11</td>\n",
       "      <td>10</td>\n",
       "    </tr>\n",
       "    <tr>\n",
       "      <td>2</td>\n",
       "      <td>US</td>\n",
       "      <td>12</td>\n",
       "      <td>7</td>\n",
       "      <td>5</td>\n",
       "    </tr>\n",
       "  </tbody>\n",
       "</table>\n",
       "</div>"
      ],
      "text/plain": [
       "  cust_country  grade_x  grade_y  grade\n",
       "0           GB        8        5      3\n",
       "1          KOR       21       11     10\n",
       "2           US       12        7      5"
      ]
     },
     "execution_count": 23,
     "metadata": {},
     "output_type": "execute_result"
    }
   ],
   "source": [
    "cust_agg = cust_agg.merge(cust_male_agg, on='cust_country', how='left')\n",
    "cust_agg = cust_agg.merge(cust_female_agg, on='cust_country', how='left')\n",
    "cust_agg.head()"
   ]
  },
  {
   "cell_type": "code",
   "execution_count": 24,
   "metadata": {
    "ExecuteTime": {
     "end_time": "2021-01-04T05:35:18.550131Z",
     "start_time": "2021-01-04T05:35:18.542399Z"
    }
   },
   "outputs": [
    {
     "data": {
      "text/html": [
       "<div>\n",
       "<style scoped>\n",
       "    .dataframe tbody tr th:only-of-type {\n",
       "        vertical-align: middle;\n",
       "    }\n",
       "\n",
       "    .dataframe tbody tr th {\n",
       "        vertical-align: top;\n",
       "    }\n",
       "\n",
       "    .dataframe thead th {\n",
       "        text-align: right;\n",
       "    }\n",
       "</style>\n",
       "<table border=\"1\" class=\"dataframe\">\n",
       "  <thead>\n",
       "    <tr style=\"text-align: right;\">\n",
       "      <th></th>\n",
       "      <th>cust_country</th>\n",
       "      <th>sum_grade</th>\n",
       "      <th>sum_male_grade</th>\n",
       "      <th>sum_female_grade</th>\n",
       "    </tr>\n",
       "  </thead>\n",
       "  <tbody>\n",
       "    <tr>\n",
       "      <td>0</td>\n",
       "      <td>GB</td>\n",
       "      <td>8</td>\n",
       "      <td>5</td>\n",
       "      <td>3</td>\n",
       "    </tr>\n",
       "    <tr>\n",
       "      <td>1</td>\n",
       "      <td>KOR</td>\n",
       "      <td>21</td>\n",
       "      <td>11</td>\n",
       "      <td>10</td>\n",
       "    </tr>\n",
       "    <tr>\n",
       "      <td>2</td>\n",
       "      <td>US</td>\n",
       "      <td>12</td>\n",
       "      <td>7</td>\n",
       "      <td>5</td>\n",
       "    </tr>\n",
       "  </tbody>\n",
       "</table>\n",
       "</div>"
      ],
      "text/plain": [
       "  cust_country  sum_grade  sum_male_grade  sum_female_grade\n",
       "0           GB          8               5                 3\n",
       "1          KOR         21              11                10\n",
       "2           US         12               7                 5"
      ]
     },
     "execution_count": 24,
     "metadata": {},
     "output_type": "execute_result"
    }
   ],
   "source": [
    "cust_agg.columns = ['cust_country', 'sum_grade', 'sum_male_grade', 'sum_female_grade']\n",
    "cust_agg"
   ]
  },
  {
   "cell_type": "markdown",
   "metadata": {
    "ExecuteTime": {
     "end_time": "2021-01-04T05:37:43.253091Z",
     "start_time": "2021-01-04T05:37:43.249231Z"
    }
   },
   "source": [
    "> Source: inflearn / 캐글 Advanced 머신러닝 실전 박치기"
   ]
  }
 ],
 "metadata": {
  "kernelspec": {
   "display_name": "Python 3",
   "language": "python",
   "name": "python3"
  },
  "language_info": {
   "codemirror_mode": {
    "name": "ipython",
    "version": 3
   },
   "file_extension": ".py",
   "mimetype": "text/x-python",
   "name": "python",
   "nbconvert_exporter": "python",
   "pygments_lexer": "ipython3",
   "version": "3.8.3"
  },
  "toc": {
   "base_numbering": 1,
   "nav_menu": {},
   "number_sections": true,
   "sideBar": true,
   "skip_h1_title": false,
   "title_cell": "Table of Contents",
   "title_sidebar": "Contents",
   "toc_cell": false,
   "toc_position": {},
   "toc_section_display": true,
   "toc_window_display": false
  }
 },
 "nbformat": 4,
 "nbformat_minor": 4
}
