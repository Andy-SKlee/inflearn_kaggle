{
 "cells": [
  {
   "cell_type": "markdown",
   "metadata": {
    "colab_type": "text",
    "id": "NEHCvFhIvR4F"
   },
   "source": [
    "### Bayesian Optimization을 이용하여 application과 previous로 만들어진 집합의 하이퍼 파라미터 튜닝"
   ]
  },
  {
   "cell_type": "markdown",
   "metadata": {
    "colab_type": "text",
    "id": "eg1AO0nNvR4H"
   },
   "source": [
    "#### 라이브러리 및 데이터 세트 로딩. 이전 application 데이터의 FE 함수 복사"
   ]
  },
  {
   "cell_type": "code",
   "execution_count": 1,
   "metadata": {
    "ExecuteTime": {
     "end_time": "2021-01-12T03:50:56.498575Z",
     "start_time": "2021-01-12T03:50:54.815692Z"
    },
    "colab": {},
    "colab_type": "code",
    "id": "il0VyvcgvR4K"
   },
   "outputs": [],
   "source": [
    "import numpy as np # 1.18.5\n",
    "import pandas as pd # 0.25.1\n",
    "import gc\n",
    "import time\n",
    "import matplotlib.pyplot as plt # 3.2.2\n",
    "import seaborn as sns # 0.10.1\n",
    "import os\n",
    "%matplotlib inline\n",
    "\n",
    "pd.set_option('display.max_rows', 100)\n",
    "pd.set_option('display.max_columns', 200)"
   ]
  },
  {
   "cell_type": "code",
   "execution_count": 2,
   "metadata": {
    "ExecuteTime": {
     "end_time": "2021-01-12T03:51:09.896091Z",
     "start_time": "2021-01-12T03:50:58.506398Z"
    },
    "colab": {
     "base_uri": "https://localhost:8080/",
     "height": 131
    },
    "colab_type": "code",
    "executionInfo": {
     "elapsed": 23178,
     "status": "ok",
     "timestamp": 1599720281125,
     "user": {
      "displayName": "권철민",
      "photoUrl": "",
      "userId": "03917677622451543916"
     },
     "user_tz": -540
    },
    "id": "VHiS9-DqwUk_",
    "outputId": "e6e77801-773b-4e48-fa9e-59c242c259d6"
   },
   "outputs": [
    {
     "name": "stderr",
     "output_type": "stream",
     "text": [
      "<ipython-input-2-60f8b7184eca>:4: FutureWarning: Sorting because non-concatenation axis is not aligned. A future version\n",
      "of pandas will change to not sort by default.\n",
      "\n",
      "To accept the future behavior, pass 'sort=False'.\n",
      "\n",
      "To retain the current behavior and silence the warning, pass 'sort=True'.\n",
      "\n",
      "  apps = pd.concat([app_train, app_test])\n"
     ]
    }
   ],
   "source": [
    "def get_dataset():\n",
    "    app_train = pd.read_csv('application_train.csv')\n",
    "    app_test = pd.read_csv('application_test.csv')\n",
    "    apps = pd.concat([app_train, app_test])\n",
    "    prev = pd.read_csv('previous_application.csv')\n",
    "\n",
    "    return apps, prev\n",
    "\n",
    "apps, prev = get_dataset()"
   ]
  },
  {
   "cell_type": "markdown",
   "metadata": {
    "colab_type": "text",
    "id": "rmG4YOdpvR4e"
   },
   "source": [
    "#### 이전 application 데이터의 feature engineering 함수 복사"
   ]
  },
  {
   "cell_type": "code",
   "execution_count": 3,
   "metadata": {
    "ExecuteTime": {
     "end_time": "2021-01-12T03:51:14.614689Z",
     "start_time": "2021-01-12T03:51:14.607799Z"
    },
    "colab": {},
    "colab_type": "code",
    "id": "2WIrIw4uvR4h"
   },
   "outputs": [],
   "source": [
    "def get_apps_processed(apps):\n",
    "    \n",
    "    # EXT_SOURCE_X FEATURE 가공\n",
    "    apps['APPS_EXT_SOURCE_MEAN'] = apps[['EXT_SOURCE_1', 'EXT_SOURCE_2', 'EXT_SOURCE_3']].mean(axis=1)\n",
    "    apps['APPS_EXT_SOURCE_STD'] = apps[['EXT_SOURCE_1', 'EXT_SOURCE_2', 'EXT_SOURCE_3']].std(axis=1)\n",
    "    apps['APPS_EXT_SOURCE_STD'] = apps['APPS_EXT_SOURCE_STD'].fillna(apps['APPS_EXT_SOURCE_STD'].mean())\n",
    "    \n",
    "    # AMT_CREDIT 비율로 Feature 가공\n",
    "    apps['APPS_ANNUITY_CREDIT_RATIO'] = apps['AMT_ANNUITY']/apps['AMT_CREDIT']\n",
    "    apps['APPS_GOODS_CREDIT_RATIO'] = apps['AMT_GOODS_PRICE']/apps['AMT_CREDIT']\n",
    "    \n",
    "    # AMT_INCOME_TOTAL 비율로 Feature 가공\n",
    "    apps['APPS_ANNUITY_INCOME_RATIO'] = apps['AMT_ANNUITY']/apps['AMT_INCOME_TOTAL']\n",
    "    apps['APPS_CREDIT_INCOME_RATIO'] = apps['AMT_CREDIT']/apps['AMT_INCOME_TOTAL']\n",
    "    apps['APPS_GOODS_INCOME_RATIO'] = apps['AMT_GOODS_PRICE']/apps['AMT_INCOME_TOTAL']\n",
    "    apps['APPS_CNT_FAM_INCOME_RATIO'] = apps['AMT_INCOME_TOTAL']/apps['CNT_FAM_MEMBERS']\n",
    "    \n",
    "    # DAYS_BIRTH, DAYS_EMPLOYED 비율로 Feature 가공\n",
    "    apps['APPS_EMPLOYED_BIRTH_RATIO'] = apps['DAYS_EMPLOYED']/apps['DAYS_BIRTH']\n",
    "    apps['APPS_INCOME_EMPLOYED_RATIO'] = apps['AMT_INCOME_TOTAL']/apps['DAYS_EMPLOYED']\n",
    "    apps['APPS_INCOME_BIRTH_RATIO'] = apps['AMT_INCOME_TOTAL']/apps['DAYS_BIRTH']\n",
    "    apps['APPS_CAR_BIRTH_RATIO'] = apps['OWN_CAR_AGE'] / apps['DAYS_BIRTH']\n",
    "    apps['APPS_CAR_EMPLOYED_RATIO'] = apps['OWN_CAR_AGE'] / apps['DAYS_EMPLOYED']\n",
    "    \n",
    "    return apps"
   ]
  },
  {
   "cell_type": "markdown",
   "metadata": {
    "colab_type": "text",
    "id": "9mU0PqE9vR4o"
   },
   "source": [
    "#### previous 데이터 가공후 인코딩 및 최종 데이터 집합 생성하는 함수 선언"
   ]
  },
  {
   "cell_type": "code",
   "execution_count": 4,
   "metadata": {
    "ExecuteTime": {
     "end_time": "2021-01-12T03:51:36.379604Z",
     "start_time": "2021-01-12T03:51:36.185893Z"
    },
    "colab": {},
    "colab_type": "code",
    "id": "VOSuDuMvvR4p"
   },
   "outputs": [],
   "source": [
    "from sklearn.model_selection import train_test_split # 0.23.1\n",
    "from lightgbm import LGBMClassifier # 3.1.1\n",
    "\n",
    "def get_prev_processed(prev):\n",
    "    # 대출 신청 금액과 실제 대출액/대출 상품금액 차이 및 비율\n",
    "    prev['PREV_CREDIT_DIFF'] = prev['AMT_APPLICATION'] - prev['AMT_CREDIT']\n",
    "    prev['PREV_GOODS_DIFF'] = prev['AMT_APPLICATION'] - prev['AMT_GOODS_PRICE']\n",
    "    prev['PREV_CREDIT_APPL_RATIO'] = prev['AMT_CREDIT']/prev['AMT_APPLICATION']\n",
    "    # prev['PREV_ANNUITY_APPL_RATIO'] = prev['AMT_ANNUITY']/prev['AMT_APPLICATION']\n",
    "    prev['PREV_GOODS_APPL_RATIO'] = prev['AMT_GOODS_PRICE']/prev['AMT_APPLICATION']\n",
    "    \n",
    "    prev['DAYS_FIRST_DRAWING'].replace(365243, np.nan, inplace= True)\n",
    "    prev['DAYS_FIRST_DUE'].replace(365243, np.nan, inplace= True)\n",
    "    prev['DAYS_LAST_DUE_1ST_VERSION'].replace(365243, np.nan, inplace= True)\n",
    "    prev['DAYS_LAST_DUE'].replace(365243, np.nan, inplace= True)\n",
    "    prev['DAYS_TERMINATION'].replace(365243, np.nan, inplace= True)\n",
    "    # 첫번째 만기일과 마지막 만기일까지의 기간\n",
    "    prev['PREV_DAYS_LAST_DUE_DIFF'] = prev['DAYS_LAST_DUE_1ST_VERSION'] - prev['DAYS_LAST_DUE']\n",
    "    # 매월 납부 금액과 납부 횟수 곱해서 전체 납부 금액 구함. \n",
    "    all_pay = prev['AMT_ANNUITY'] * prev['CNT_PAYMENT']\n",
    "    # 전체 납부 금액 대비 AMT_CREDIT 비율을 구하고 여기에 다시 납부횟수로 나누어서 이자율 계산. \n",
    "    prev['PREV_INTERESTS_RATE'] = (all_pay/prev['AMT_CREDIT'] - 1)/prev['CNT_PAYMENT']\n",
    "        \n",
    "    return prev\n",
    "    \n",
    "    \n",
    "def get_prev_amt_agg(prev):\n",
    "    # 새롭게 생성된 대출 신청액 대비 다른 금액 차이 및 비율로 aggregation 수행. \n",
    "    agg_dict = {\n",
    "         # 기존 컬럼. \n",
    "        'SK_ID_CURR':['count'],\n",
    "        'AMT_CREDIT':['mean', 'max', 'sum'],\n",
    "        'AMT_ANNUITY':['mean', 'max', 'sum'], \n",
    "        'AMT_APPLICATION':['mean', 'max', 'sum'],\n",
    "        'AMT_DOWN_PAYMENT':['mean', 'max', 'sum'],\n",
    "        'AMT_GOODS_PRICE':['mean', 'max', 'sum'],\n",
    "        'RATE_DOWN_PAYMENT': ['min', 'max', 'mean'],\n",
    "        'DAYS_DECISION': ['min', 'max', 'mean'],\n",
    "        'CNT_PAYMENT': ['mean', 'sum'],\n",
    "        # 가공 컬럼\n",
    "        'PREV_CREDIT_DIFF':['mean', 'max', 'sum'], \n",
    "        'PREV_CREDIT_APPL_RATIO':['mean', 'max'],\n",
    "        'PREV_GOODS_DIFF':['mean', 'max', 'sum'],\n",
    "        'PREV_GOODS_APPL_RATIO':['mean', 'max'],\n",
    "        'PREV_DAYS_LAST_DUE_DIFF':['mean', 'max', 'sum'],\n",
    "        'PREV_INTERESTS_RATE':['mean', 'max']\n",
    "    }\n",
    "\n",
    "    prev_group = prev.groupby('SK_ID_CURR')\n",
    "    prev_amt_agg = prev_group.agg(agg_dict)\n",
    "\n",
    "    # multi index 컬럼을 '_'로 연결하여 컬럼명 변경\n",
    "    prev_amt_agg.columns = [\"PREV_\"+ \"_\".join(x).upper() for x in prev_amt_agg.columns.ravel()]\n",
    "    \n",
    "    return prev_amt_agg\n",
    "\n",
    "def get_prev_refused_appr_agg(prev):\n",
    "    # 원래 groupby 컬럼 + 세부 기준 컬럼으로 groupby 수행. 세분화된 레벨로 aggregation 수행 한 뒤에 unstack()으로 컬럼레벨로 변형. \n",
    "    prev_refused_appr_group = prev[prev['NAME_CONTRACT_STATUS'].isin(['Approved', 'Refused'])].groupby([ 'SK_ID_CURR', 'NAME_CONTRACT_STATUS'])\n",
    "    prev_refused_appr_agg = prev_refused_appr_group['SK_ID_CURR'].count().unstack()\n",
    "    # 컬럼명 변경. \n",
    "    prev_refused_appr_agg.columns = ['PREV_APPROVED_COUNT', 'PREV_REFUSED_COUNT' ]\n",
    "    # NaN값은 모두 0으로 변경. \n",
    "    prev_refused_appr_agg = prev_refused_appr_agg.fillna(0)\n",
    "    \n",
    "    return prev_refused_appr_agg\n",
    "\n",
    "    \n",
    "\n",
    "def get_prev_agg(prev):\n",
    "    prev = get_prev_processed(prev)\n",
    "    prev_amt_agg = get_prev_amt_agg(prev)\n",
    "    prev_refused_appr_agg = get_prev_refused_appr_agg(prev)\n",
    "    \n",
    "    # prev_amt_agg와 조인. \n",
    "    prev_agg = prev_amt_agg.merge(prev_refused_appr_agg, on='SK_ID_CURR', how='left')\n",
    "    # SK_ID_CURR별 과거 대출건수 대비 APPROVED_COUNT 및 REFUSED_COUNT 비율 생성. \n",
    "    prev_agg['PREV_REFUSED_RATIO'] = prev_agg['PREV_REFUSED_COUNT']/prev_agg['PREV_SK_ID_CURR_COUNT']\n",
    "    prev_agg['PREV_APPROVED_RATIO'] = prev_agg['PREV_APPROVED_COUNT']/prev_agg['PREV_SK_ID_CURR_COUNT']\n",
    "    # 'PREV_REFUSED_COUNT', 'PREV_APPROVED_COUNT' 컬럼 drop \n",
    "    prev_agg = prev_agg.drop(['PREV_REFUSED_COUNT', 'PREV_APPROVED_COUNT'], axis=1)\n",
    "    \n",
    "    return prev_agg\n",
    "\n",
    "def get_apps_all_with_prev_agg(apps, prev):\n",
    "    apps_all =  get_apps_processed(apps)\n",
    "    prev_agg = get_prev_agg(prev)\n",
    "    print('prev_agg shape:', prev_agg.shape)\n",
    "    print('apps_all before merge shape:', apps_all.shape)\n",
    "    apps_all = apps_all.merge(prev_agg, on='SK_ID_CURR', how='left')\n",
    "    print('apps_all after merge with prev_agg shape:', apps_all.shape)\n",
    "    \n",
    "    return apps_all\n",
    "\n",
    "def get_apps_all_encoded(apps_all):\n",
    "    object_columns = apps_all.dtypes[apps_all.dtypes == 'object'].index.tolist()\n",
    "    for column in object_columns:\n",
    "        apps_all[column] = pd.factorize(apps_all[column])[0]\n",
    "    \n",
    "    return apps_all\n",
    "\n",
    "def get_apps_all_train_test(apps_all):\n",
    "    apps_all_train = apps_all[~apps_all['TARGET'].isnull()]\n",
    "    apps_all_test = apps_all[apps_all['TARGET'].isnull()]\n",
    "\n",
    "    apps_all_test = apps_all_test.drop('TARGET', axis=1)\n",
    "    \n",
    "    return apps_all_train, apps_all_test\n",
    "    \n",
    "def train_apps_all(apps_all_train):\n",
    "    ftr_app = apps_all_train.drop(['SK_ID_CURR', 'TARGET'], axis=1)\n",
    "    target_app = apps_all_train['TARGET']\n",
    "\n",
    "    train_x, valid_x, train_y, valid_y = train_test_split(ftr_app, target_app, test_size=0.3, random_state=2020)\n",
    "    print('train shape:', train_x.shape, 'valid shape:', valid_x.shape)\n",
    "    clf = LGBMClassifier(\n",
    "                nthread=4,\n",
    "                n_estimators=2000,\n",
    "                learning_rate=0.01,\n",
    "                num_leaves=32,\n",
    "                colsample_bytree=0.8,\n",
    "                subsample=0.8,\n",
    "                max_depth=8,\n",
    "                reg_alpha=0.04,\n",
    "                reg_lambda=0.07,\n",
    "                min_child_weight=40,\n",
    "                silent=-1,\n",
    "                verbose=-1,\n",
    "                )\n",
    "\n",
    "    clf.fit(train_x, train_y, eval_set=[(train_x, train_y), (valid_x, valid_y)], eval_metric= 'auc', verbose= 100, \n",
    "                early_stopping_rounds= 100)\n",
    "    \n",
    "    return clf"
   ]
  },
  {
   "cell_type": "markdown",
   "metadata": {
    "colab_type": "text",
    "id": "nqqmKKhrvR4w"
   },
   "source": [
    "##### 최종 집합 생성 및 인코딩, 학습/테스트 데이터 분리, 학습/검증 피처와 타겟 데이터 분리"
   ]
  },
  {
   "cell_type": "code",
   "execution_count": 5,
   "metadata": {
    "ExecuteTime": {
     "end_time": "2021-01-12T03:51:48.700364Z",
     "start_time": "2021-01-12T03:51:38.121386Z"
    },
    "colab": {
     "base_uri": "https://localhost:8080/",
     "height": 74
    },
    "colab_type": "code",
    "executionInfo": {
     "elapsed": 9499,
     "status": "ok",
     "timestamp": 1599720328172,
     "user": {
      "displayName": "권철민",
      "photoUrl": "",
      "userId": "03917677622451543916"
     },
     "user_tz": -540
    },
    "id": "-vsBLQ8FvR4x",
    "outputId": "16575155-27fa-4510-bbb5-7bfe7144f19a"
   },
   "outputs": [
    {
     "name": "stdout",
     "output_type": "stream",
     "text": [
      "prev_agg shape: (338857, 41)\n",
      "apps_all before merge shape: (356255, 135)\n",
      "apps_all after merge with prev_agg shape: (356255, 176)\n"
     ]
    }
   ],
   "source": [
    "apps_all = get_apps_all_with_prev_agg(apps, prev)\n",
    "apps_all = get_apps_all_encoded(apps_all)\n",
    "apps_all_train, apps_all_test = get_apps_all_train_test(apps_all)\n",
    "ftr_app = apps_all_train.drop(['SK_ID_CURR', 'TARGET'], axis=1)\n",
    "target_app = apps_all_train['TARGET']\n",
    "train_x, valid_x, train_y, valid_y = train_test_split(ftr_app, target_app, test_size=0.3, random_state=2020)\n"
   ]
  },
  {
   "cell_type": "markdown",
   "metadata": {
    "colab_type": "text",
    "id": "DEOB24lVvR47"
   },
   "source": [
    "#### Bayesian Optimization "
   ]
  },
  {
   "cell_type": "code",
   "execution_count": null,
   "metadata": {
    "colab": {
     "base_uri": "https://localhost:8080/",
     "height": 282
    },
    "colab_type": "code",
    "executionInfo": {
     "elapsed": 5630,
     "status": "ok",
     "timestamp": 1599720420983,
     "user": {
      "displayName": "권철민",
      "photoUrl": "",
      "userId": "03917677622451543916"
     },
     "user_tz": -540
    },
    "id": "MDf92dTOw0rR",
    "outputId": "fbf92f64-95cc-4fed-b03e-def2cc61f2ca"
   },
   "outputs": [],
   "source": [
    "# bayesian optimization 패키지 설치\n",
    "!pip install bayesian-optimization"
   ]
  },
  {
   "cell_type": "code",
   "execution_count": 6,
   "metadata": {
    "ExecuteTime": {
     "end_time": "2021-01-12T03:52:10.191088Z",
     "start_time": "2021-01-12T03:52:10.170987Z"
    },
    "colab": {},
    "colab_type": "code",
    "id": "MDQVRZeRvR48"
   },
   "outputs": [],
   "source": [
    "from bayes_opt import BayesianOptimization # 1.2.0\n",
    "from sklearn.metrics import roc_auc_score\n",
    "from lightgbm import LGBMClassifier"
   ]
  },
  {
   "cell_type": "markdown",
   "metadata": {
    "colab_type": "text",
    "id": "dDmrYrAUvR5B"
   },
   "source": [
    "##### 함수의 입력값 search 범위(하이퍼 파라미터 별 입력 범위) 를 설정"
   ]
  },
  {
   "cell_type": "code",
   "execution_count": 8,
   "metadata": {
    "ExecuteTime": {
     "end_time": "2021-01-12T04:05:58.772388Z",
     "start_time": "2021-01-12T04:05:58.768658Z"
    },
    "colab": {},
    "colab_type": "code",
    "id": "NrIZzOHbvR5C"
   },
   "outputs": [],
   "source": [
    "bayesian_params = {\n",
    "    'max_depth': (6, 16),\n",
    "    'num_leaves': (24, 64),\n",
    "    'min_child_samples': (10, 200),\n",
    "    'min_child_weight': (1, 50),\n",
    "    'subsample': (0.5, 1), # 0.5 이하로 가도 크게 좋아지는게 없음\n",
    "    'colsample_bytree': (0.5, 1),\n",
    "    'max_bin': (10, 500),\n",
    "    'reg_lambda': (0.001, 10),\n",
    "    'reg_alpha': (0.01, 50)\n",
    "}"
   ]
  },
  {
   "cell_type": "markdown",
   "metadata": {
    "colab_type": "text",
    "id": "yog23y34vR5H"
   },
   "source": [
    "##### 최대 값을 구할 함수 선언. \n",
    "* iteration 시 마다 hyperparameter를 입력받아 classifier 학습하고 roc_auc_score값을 반환 "
   ]
  },
  {
   "cell_type": "code",
   "execution_count": 10,
   "metadata": {
    "ExecuteTime": {
     "end_time": "2021-01-12T04:06:42.284512Z",
     "start_time": "2021-01-12T04:06:42.274760Z"
    },
    "colab": {},
    "colab_type": "code",
    "id": "YduL1j4RvR5J"
   },
   "outputs": [],
   "source": [
    "  def lgb_roc_eval(max_depth, num_leaves, min_child_samples, min_child_weight, subsample,\n",
    "                  colsample_bytree, max_bin, reg_lambda, reg_alpha):\n",
    "        \n",
    "        params = {\n",
    "            'n_estimators': 500, # 1000이면 시간이 너무 오래 걸린다.\n",
    "            'learning_rate': 0.02,\n",
    "            'max_depth': int(round(max_depth)), # max_depth와 num_leaves는 실수형으로 받아지기에 정수형으로 바꿔줘야한다.\n",
    "            'num_leaves': int(round(num_leaves)), \n",
    "            'min_child_samples': int(round(min_child_samples)), # min_child_samples와 min_child_weight는 실수형으로 받아지기에 정수형으로 바꿔줘야한다.\n",
    "            'min_child_weight': int(round(min_child_weight)), \n",
    "            'subsample': max(min(subsample, 1), 0), # 위에서 필터링이 되긴했지만 다시 한번 제약해주는것이 좋다. \n",
    "            'colsample_bytree': max(min(colsample_bytree, 1), 0),\n",
    "            'max_bin':  max(int(round(max_bin)),10),\n",
    "            'reg_lambda': max(reg_lambda,0),\n",
    "            'reg_alpha': max(reg_alpha, 0)\n",
    "        }\n",
    "        \n",
    "        # print(params)\n",
    "        \n",
    "        lgb_model = LGBMClassifier(**params)\n",
    "        lgb_model.fit(train_x, train_y, eval_set=[(train_x, train_y), (valid_x, valid_y)], eval_metric= 'auc', verbose= 100, \n",
    "                      early_stopping_rounds= 100)\n",
    "        valid_proba = lgb_model.predict_proba(valid_x)[:, 1]\n",
    "        roc_auc = roc_auc_score(valid_y, valid_proba)\n",
    "        \n",
    "        return roc_auc"
   ]
  },
  {
   "cell_type": "markdown",
   "metadata": {
    "colab_type": "text",
    "id": "cmnQwMudvR5Q"
   },
   "source": [
    "##### BayesianOptimization 객체 생성 후 함수 반환값이 최대가 되는 입력값 search를 위한 iteration 수행"
   ]
  },
  {
   "cell_type": "code",
   "execution_count": 11,
   "metadata": {
    "ExecuteTime": {
     "end_time": "2021-01-12T04:30:47.244984Z",
     "start_time": "2021-01-12T04:06:44.158261Z"
    },
    "colab": {
     "base_uri": "https://localhost:8080/",
     "height": 639
    },
    "colab_type": "code",
    "id": "Vcny5qJrvR5R",
    "outputId": "4f6708e1-b153-40c8-a0e7-98880aea2310",
    "scrolled": true
   },
   "outputs": [
    {
     "name": "stdout",
     "output_type": "stream",
     "text": [
      "|   iter    |  target   | colsam... |  max_bin  | max_depth | min_ch... | min_ch... | num_le... | reg_alpha | reg_la... | subsample |\n",
      "-------------------------------------------------------------------------------------------------------------------------------------\n",
      "Training until validation scores don't improve for 100 rounds\n",
      "[100]\ttraining's auc: 0.769375\ttraining's binary_logloss: 0.246057\tvalid_1's auc: 0.755179\tvalid_1's binary_logloss: 0.248986\n",
      "[200]\ttraining's auc: 0.787681\ttraining's binary_logloss: 0.238342\tvalid_1's auc: 0.766691\tvalid_1's binary_logloss: 0.244129\n",
      "[300]\ttraining's auc: 0.799234\ttraining's binary_logloss: 0.233876\tvalid_1's auc: 0.77183\tvalid_1's binary_logloss: 0.242237\n",
      "[400]\ttraining's auc: 0.808068\ttraining's binary_logloss: 0.230569\tvalid_1's auc: 0.774252\tvalid_1's binary_logloss: 0.241339\n",
      "[500]\ttraining's auc: 0.816074\ttraining's binary_logloss: 0.227608\tvalid_1's auc: 0.775833\tvalid_1's binary_logloss: 0.240803\n",
      "Did not meet early stopping. Best iteration is:\n",
      "[500]\ttraining's auc: 0.816074\ttraining's binary_logloss: 0.227608\tvalid_1's auc: 0.775833\tvalid_1's binary_logloss: 0.240803\n",
      "| \u001b[0m 1       \u001b[0m | \u001b[0m 0.7758  \u001b[0m | \u001b[0m 0.7744  \u001b[0m | \u001b[0m 360.4   \u001b[0m | \u001b[0m 12.03   \u001b[0m | \u001b[0m 113.5   \u001b[0m | \u001b[0m 21.76   \u001b[0m | \u001b[0m 49.84   \u001b[0m | \u001b[0m 21.88   \u001b[0m | \u001b[0m 8.918   \u001b[0m | \u001b[0m 0.9818  \u001b[0m |\n",
      "Training until validation scores don't improve for 100 rounds\n",
      "[100]\ttraining's auc: 0.762756\ttraining's binary_logloss: 0.247406\tvalid_1's auc: 0.753947\tvalid_1's binary_logloss: 0.249065\n",
      "[200]\ttraining's auc: 0.780297\ttraining's binary_logloss: 0.240447\tvalid_1's auc: 0.765879\tvalid_1's binary_logloss: 0.244232\n",
      "[300]\ttraining's auc: 0.790938\ttraining's binary_logloss: 0.236473\tvalid_1's auc: 0.771249\tvalid_1's binary_logloss: 0.24227\n",
      "[400]\ttraining's auc: 0.799034\ttraining's binary_logloss: 0.23352\tvalid_1's auc: 0.774004\tvalid_1's binary_logloss: 0.241278\n",
      "[500]\ttraining's auc: 0.805948\ttraining's binary_logloss: 0.231055\tvalid_1's auc: 0.775677\tvalid_1's binary_logloss: 0.240701\n",
      "Did not meet early stopping. Best iteration is:\n",
      "[500]\ttraining's auc: 0.805948\ttraining's binary_logloss: 0.231055\tvalid_1's auc: 0.775677\tvalid_1's binary_logloss: 0.240701\n",
      "| \u001b[0m 2       \u001b[0m | \u001b[0m 0.7757  \u001b[0m | \u001b[0m 0.6917  \u001b[0m | \u001b[0m 397.9   \u001b[0m | \u001b[0m 11.29   \u001b[0m | \u001b[0m 117.9   \u001b[0m | \u001b[0m 46.35   \u001b[0m | \u001b[0m 26.84   \u001b[0m | \u001b[0m 4.366   \u001b[0m | \u001b[0m 0.2032  \u001b[0m | \u001b[0m 0.9163  \u001b[0m |\n",
      "Training until validation scores don't improve for 100 rounds\n",
      "[100]\ttraining's auc: 0.775744\ttraining's binary_logloss: 0.24382\tvalid_1's auc: 0.757621\tvalid_1's binary_logloss: 0.247886\n",
      "[200]\ttraining's auc: 0.797027\ttraining's binary_logloss: 0.235008\tvalid_1's auc: 0.768961\tvalid_1's binary_logloss: 0.24316\n",
      "[300]\ttraining's auc: 0.811885\ttraining's binary_logloss: 0.229277\tvalid_1's auc: 0.773437\tvalid_1's binary_logloss: 0.24154\n",
      "[400]\ttraining's auc: 0.824812\ttraining's binary_logloss: 0.224474\tvalid_1's auc: 0.776204\tvalid_1's binary_logloss: 0.240563\n",
      "[500]\ttraining's auc: 0.835466\ttraining's binary_logloss: 0.220404\tvalid_1's auc: 0.776976\tvalid_1's binary_logloss: 0.24022\n",
      "Did not meet early stopping. Best iteration is:\n",
      "[500]\ttraining's auc: 0.835466\ttraining's binary_logloss: 0.220404\tvalid_1's auc: 0.776976\tvalid_1's binary_logloss: 0.24022\n",
      "| \u001b[95m 3       \u001b[0m | \u001b[95m 0.777   \u001b[0m | \u001b[95m 0.8891  \u001b[0m | \u001b[95m 436.3   \u001b[0m | \u001b[95m 15.79   \u001b[0m | \u001b[95m 161.8   \u001b[0m | \u001b[95m 23.61   \u001b[0m | \u001b[95m 55.22   \u001b[0m | \u001b[95m 5.923   \u001b[0m | \u001b[95m 6.4     \u001b[0m | \u001b[95m 0.5717  \u001b[0m |\n",
      "Training until validation scores don't improve for 100 rounds\n",
      "[100]\ttraining's auc: 0.765688\ttraining's binary_logloss: 0.246918\tvalid_1's auc: 0.753479\tvalid_1's binary_logloss: 0.249319\n",
      "[200]\ttraining's auc: 0.783005\ttraining's binary_logloss: 0.239795\tvalid_1's auc: 0.765172\tvalid_1's binary_logloss: 0.244577\n",
      "[300]\ttraining's auc: 0.793616\ttraining's binary_logloss: 0.23576\tvalid_1's auc: 0.770608\tvalid_1's binary_logloss: 0.242612\n",
      "[400]\ttraining's auc: 0.801659\ttraining's binary_logloss: 0.232783\tvalid_1's auc: 0.773426\tvalid_1's binary_logloss: 0.241615\n",
      "[500]\ttraining's auc: 0.808285\ttraining's binary_logloss: 0.230323\tvalid_1's auc: 0.774921\tvalid_1's binary_logloss: 0.241083\n",
      "Did not meet early stopping. Best iteration is:\n",
      "[500]\ttraining's auc: 0.808285\ttraining's binary_logloss: 0.230323\tvalid_1's auc: 0.774921\tvalid_1's binary_logloss: 0.241083\n",
      "| \u001b[0m 4       \u001b[0m | \u001b[0m 0.7749  \u001b[0m | \u001b[0m 0.9723  \u001b[0m | \u001b[0m 265.7   \u001b[0m | \u001b[0m 10.15   \u001b[0m | \u001b[0m 60.27   \u001b[0m | \u001b[0m 38.94   \u001b[0m | \u001b[0m 42.25   \u001b[0m | \u001b[0m 28.43   \u001b[0m | \u001b[0m 0.1889  \u001b[0m | \u001b[0m 0.8088  \u001b[0m |\n",
      "Training until validation scores don't improve for 100 rounds\n",
      "[100]\ttraining's auc: 0.765595\ttraining's binary_logloss: 0.247278\tvalid_1's auc: 0.75368\tvalid_1's binary_logloss: 0.249609\n",
      "[200]\ttraining's auc: 0.781691\ttraining's binary_logloss: 0.240311\tvalid_1's auc: 0.764539\tvalid_1's binary_logloss: 0.244863\n",
      "[300]\ttraining's auc: 0.791658\ttraining's binary_logloss: 0.236498\tvalid_1's auc: 0.769765\tvalid_1's binary_logloss: 0.242951\n",
      "[400]\ttraining's auc: 0.799097\ttraining's binary_logloss: 0.233748\tvalid_1's auc: 0.772393\tvalid_1's binary_logloss: 0.242026\n",
      "[500]\ttraining's auc: 0.805557\ttraining's binary_logloss: 0.231406\tvalid_1's auc: 0.774123\tvalid_1's binary_logloss: 0.241423\n",
      "Did not meet early stopping. Best iteration is:\n",
      "[500]\ttraining's auc: 0.805557\ttraining's binary_logloss: 0.231406\tvalid_1's auc: 0.774123\tvalid_1's binary_logloss: 0.241423\n",
      "| \u001b[0m 5       \u001b[0m | \u001b[0m 0.7741  \u001b[0m | \u001b[0m 0.806   \u001b[0m | \u001b[0m 312.3   \u001b[0m | \u001b[0m 15.44   \u001b[0m | \u001b[0m 139.5   \u001b[0m | \u001b[0m 18.62   \u001b[0m | \u001b[0m 41.48   \u001b[0m | \u001b[0m 34.88   \u001b[0m | \u001b[0m 0.6032  \u001b[0m | \u001b[0m 0.8334  \u001b[0m |\n",
      "Training until validation scores don't improve for 100 rounds\n",
      "[100]\ttraining's auc: 0.778657\ttraining's binary_logloss: 0.243805\tvalid_1's auc: 0.759224\tvalid_1's binary_logloss: 0.248021\n",
      "[200]\ttraining's auc: 0.797782\ttraining's binary_logloss: 0.234994\tvalid_1's auc: 0.768746\tvalid_1's binary_logloss: 0.243256\n",
      "[300]\ttraining's auc: 0.812213\ttraining's binary_logloss: 0.229331\tvalid_1's auc: 0.773293\tvalid_1's binary_logloss: 0.241553\n",
      "[400]\ttraining's auc: 0.824605\ttraining's binary_logloss: 0.224605\tvalid_1's auc: 0.775881\tvalid_1's binary_logloss: 0.240608\n",
      "[500]\ttraining's auc: 0.835444\ttraining's binary_logloss: 0.220508\tvalid_1's auc: 0.777366\tvalid_1's binary_logloss: 0.240098\n",
      "Did not meet early stopping. Best iteration is:\n",
      "[500]\ttraining's auc: 0.835444\ttraining's binary_logloss: 0.220508\tvalid_1's auc: 0.777366\tvalid_1's binary_logloss: 0.240098\n",
      "| \u001b[95m 6       \u001b[0m | \u001b[95m 0.7774  \u001b[0m | \u001b[95m 0.6405  \u001b[0m | \u001b[95m 435.0   \u001b[0m | \u001b[95m 13.5    \u001b[0m | \u001b[95m 169.3   \u001b[0m | \u001b[95m 26.92   \u001b[0m | \u001b[95m 57.69   \u001b[0m | \u001b[95m 5.768   \u001b[0m | \u001b[95m 9.196   \u001b[0m | \u001b[95m 0.613   \u001b[0m |\n",
      "Training until validation scores don't improve for 100 rounds\n",
      "[100]\ttraining's auc: 0.766035\ttraining's binary_logloss: 0.247565\tvalid_1's auc: 0.754549\tvalid_1's binary_logloss: 0.249569\n",
      "[200]\ttraining's auc: 0.780739\ttraining's binary_logloss: 0.240964\tvalid_1's auc: 0.764736\tvalid_1's binary_logloss: 0.244872\n",
      "[300]\ttraining's auc: 0.789504\ttraining's binary_logloss: 0.237458\tvalid_1's auc: 0.769758\tvalid_1's binary_logloss: 0.24294\n",
      "[400]\ttraining's auc: 0.795707\ttraining's binary_logloss: 0.235043\tvalid_1's auc: 0.772359\tvalid_1's binary_logloss: 0.241973\n",
      "[500]\ttraining's auc: 0.800676\ttraining's binary_logloss: 0.23313\tvalid_1's auc: 0.77394\tvalid_1's binary_logloss: 0.241372\n",
      "Did not meet early stopping. Best iteration is:\n",
      "[500]\ttraining's auc: 0.800676\ttraining's binary_logloss: 0.23313\tvalid_1's auc: 0.77394\tvalid_1's binary_logloss: 0.241372\n",
      "| \u001b[0m 7       \u001b[0m | \u001b[0m 0.7739  \u001b[0m | \u001b[0m 0.7422  \u001b[0m | \u001b[0m 428.5   \u001b[0m | \u001b[0m 6.316   \u001b[0m | \u001b[0m 194.0   \u001b[0m | \u001b[0m 44.28   \u001b[0m | \u001b[0m 50.76   \u001b[0m | \u001b[0m 26.01   \u001b[0m | \u001b[0m 5.85    \u001b[0m | \u001b[0m 0.9474  \u001b[0m |\n",
      "Training until validation scores don't improve for 100 rounds\n",
      "[100]\ttraining's auc: 0.779486\ttraining's binary_logloss: 0.244217\tvalid_1's auc: 0.760727\tvalid_1's binary_logloss: 0.248149\n",
      "[200]\ttraining's auc: 0.796419\ttraining's binary_logloss: 0.235656\tvalid_1's auc: 0.768793\tvalid_1's binary_logloss: 0.243432\n"
     ]
    },
    {
     "name": "stdout",
     "output_type": "stream",
     "text": [
      "[300]\ttraining's auc: 0.810285\ttraining's binary_logloss: 0.230168\tvalid_1's auc: 0.77343\tvalid_1's binary_logloss: 0.241651\n",
      "[400]\ttraining's auc: 0.821917\ttraining's binary_logloss: 0.225749\tvalid_1's auc: 0.775774\tvalid_1's binary_logloss: 0.240811\n",
      "[500]\ttraining's auc: 0.832404\ttraining's binary_logloss: 0.221754\tvalid_1's auc: 0.777248\tvalid_1's binary_logloss: 0.240267\n",
      "Did not meet early stopping. Best iteration is:\n",
      "[500]\ttraining's auc: 0.832404\ttraining's binary_logloss: 0.221754\tvalid_1's auc: 0.777248\tvalid_1's binary_logloss: 0.240267\n",
      "| \u001b[0m 8       \u001b[0m | \u001b[0m 0.7772  \u001b[0m | \u001b[0m 0.5334  \u001b[0m | \u001b[0m 449.0   \u001b[0m | \u001b[0m 12.21   \u001b[0m | \u001b[0m 174.8   \u001b[0m | \u001b[0m 29.78   \u001b[0m | \u001b[0m 62.2    \u001b[0m | \u001b[0m 9.646   \u001b[0m | \u001b[0m 8.556   \u001b[0m | \u001b[0m 0.716   \u001b[0m |\n",
      "Training until validation scores don't improve for 100 rounds\n",
      "[100]\ttraining's auc: 0.778361\ttraining's binary_logloss: 0.244066\tvalid_1's auc: 0.759265\tvalid_1's binary_logloss: 0.24797\n",
      "[200]\ttraining's auc: 0.796634\ttraining's binary_logloss: 0.235804\tvalid_1's auc: 0.768636\tvalid_1's binary_logloss: 0.243387\n",
      "[300]\ttraining's auc: 0.808036\ttraining's binary_logloss: 0.231091\tvalid_1's auc: 0.772468\tvalid_1's binary_logloss: 0.241819\n",
      "[400]\ttraining's auc: 0.816655\ttraining's binary_logloss: 0.227676\tvalid_1's auc: 0.774757\tvalid_1's binary_logloss: 0.24098\n",
      "[500]\ttraining's auc: 0.824171\ttraining's binary_logloss: 0.224775\tvalid_1's auc: 0.775976\tvalid_1's binary_logloss: 0.240529\n",
      "Did not meet early stopping. Best iteration is:\n",
      "[500]\ttraining's auc: 0.824171\ttraining's binary_logloss: 0.224775\tvalid_1's auc: 0.775976\tvalid_1's binary_logloss: 0.240529\n",
      "| \u001b[0m 9       \u001b[0m | \u001b[0m 0.776   \u001b[0m | \u001b[0m 0.709   \u001b[0m | \u001b[0m 436.9   \u001b[0m | \u001b[0m 7.36    \u001b[0m | \u001b[0m 154.5   \u001b[0m | \u001b[0m 41.19   \u001b[0m | \u001b[0m 61.92   \u001b[0m | \u001b[0m 5.192   \u001b[0m | \u001b[0m 8.185   \u001b[0m | \u001b[0m 0.6971  \u001b[0m |\n",
      "Training until validation scores don't improve for 100 rounds\n",
      "[100]\ttraining's auc: 0.776197\ttraining's binary_logloss: 0.244176\tvalid_1's auc: 0.757329\tvalid_1's binary_logloss: 0.248272\n",
      "[200]\ttraining's auc: 0.795529\ttraining's binary_logloss: 0.235796\tvalid_1's auc: 0.767715\tvalid_1's binary_logloss: 0.243633\n",
      "[300]\ttraining's auc: 0.808846\ttraining's binary_logloss: 0.230566\tvalid_1's auc: 0.772539\tvalid_1's binary_logloss: 0.241868\n",
      "[400]\ttraining's auc: 0.819773\ttraining's binary_logloss: 0.226471\tvalid_1's auc: 0.774818\tvalid_1's binary_logloss: 0.241076\n",
      "[500]\ttraining's auc: 0.829609\ttraining's binary_logloss: 0.222731\tvalid_1's auc: 0.776241\tvalid_1's binary_logloss: 0.240578\n",
      "Did not meet early stopping. Best iteration is:\n",
      "[500]\ttraining's auc: 0.829609\ttraining's binary_logloss: 0.222731\tvalid_1's auc: 0.776241\tvalid_1's binary_logloss: 0.240578\n",
      "| \u001b[0m 10      \u001b[0m | \u001b[0m 0.7762  \u001b[0m | \u001b[0m 0.8272  \u001b[0m | \u001b[0m 454.0   \u001b[0m | \u001b[0m 8.843   \u001b[0m | \u001b[0m 172.3   \u001b[0m | \u001b[0m 7.795   \u001b[0m | \u001b[0m 62.48   \u001b[0m | \u001b[0m 12.96   \u001b[0m | \u001b[0m 9.245   \u001b[0m | \u001b[0m 0.7441  \u001b[0m |\n",
      "Training until validation scores don't improve for 100 rounds\n",
      "[100]\ttraining's auc: 0.781786\ttraining's binary_logloss: 0.243117\tvalid_1's auc: 0.761\tvalid_1's binary_logloss: 0.247638\n",
      "[200]\ttraining's auc: 0.800144\ttraining's binary_logloss: 0.234309\tvalid_1's auc: 0.769258\tvalid_1's binary_logloss: 0.243081\n",
      "[300]\ttraining's auc: 0.814131\ttraining's binary_logloss: 0.228737\tvalid_1's auc: 0.773378\tvalid_1's binary_logloss: 0.241467\n",
      "[400]\ttraining's auc: 0.824815\ttraining's binary_logloss: 0.224639\tvalid_1's auc: 0.775246\tvalid_1's binary_logloss: 0.240755\n",
      "[500]\ttraining's auc: 0.834881\ttraining's binary_logloss: 0.220776\tvalid_1's auc: 0.776495\tvalid_1's binary_logloss: 0.240307\n",
      "Did not meet early stopping. Best iteration is:\n",
      "[500]\ttraining's auc: 0.834881\ttraining's binary_logloss: 0.220776\tvalid_1's auc: 0.776495\tvalid_1's binary_logloss: 0.240307\n",
      "| \u001b[0m 11      \u001b[0m | \u001b[0m 0.7765  \u001b[0m | \u001b[0m 0.5893  \u001b[0m | \u001b[0m 454.3   \u001b[0m | \u001b[0m 8.131   \u001b[0m | \u001b[0m 177.8   \u001b[0m | \u001b[0m 27.34   \u001b[0m | \u001b[0m 60.68   \u001b[0m | \u001b[0m 4.726   \u001b[0m | \u001b[0m 1.43    \u001b[0m | \u001b[0m 0.8557  \u001b[0m |\n",
      "Training until validation scores don't improve for 100 rounds\n",
      "[100]\ttraining's auc: 0.779788\ttraining's binary_logloss: 0.243626\tvalid_1's auc: 0.761093\tvalid_1's binary_logloss: 0.247734\n",
      "[200]\ttraining's auc: 0.798918\ttraining's binary_logloss: 0.23461\tvalid_1's auc: 0.769601\tvalid_1's binary_logloss: 0.243006\n",
      "[300]\ttraining's auc: 0.814191\ttraining's binary_logloss: 0.228701\tvalid_1's auc: 0.773467\tvalid_1's binary_logloss: 0.241427\n",
      "[400]\ttraining's auc: 0.82738\ttraining's binary_logloss: 0.223755\tvalid_1's auc: 0.775969\tvalid_1's binary_logloss: 0.240535\n",
      "[500]\ttraining's auc: 0.838862\ttraining's binary_logloss: 0.219465\tvalid_1's auc: 0.777154\tvalid_1's binary_logloss: 0.240107\n",
      "Did not meet early stopping. Best iteration is:\n",
      "[500]\ttraining's auc: 0.838862\ttraining's binary_logloss: 0.219465\tvalid_1's auc: 0.777154\tvalid_1's binary_logloss: 0.240107\n",
      "| \u001b[0m 12      \u001b[0m | \u001b[0m 0.7772  \u001b[0m | \u001b[0m 0.5053  \u001b[0m | \u001b[0m 415.8   \u001b[0m | \u001b[0m 14.28   \u001b[0m | \u001b[0m 173.3   \u001b[0m | \u001b[0m 14.82   \u001b[0m | \u001b[0m 54.13   \u001b[0m | \u001b[0m 1.876   \u001b[0m | \u001b[0m 3.377   \u001b[0m | \u001b[0m 0.9288  \u001b[0m |\n",
      "Training until validation scores don't improve for 100 rounds\n",
      "[100]\ttraining's auc: 0.780625\ttraining's binary_logloss: 0.242042\tvalid_1's auc: 0.75829\tvalid_1's binary_logloss: 0.24744\n",
      "[200]\ttraining's auc: 0.804935\ttraining's binary_logloss: 0.232207\tvalid_1's auc: 0.769608\tvalid_1's binary_logloss: 0.24281\n",
      "[300]\ttraining's auc: 0.822925\ttraining's binary_logloss: 0.225391\tvalid_1's auc: 0.774052\tvalid_1's binary_logloss: 0.241209\n",
      "[400]\ttraining's auc: 0.838204\ttraining's binary_logloss: 0.219677\tvalid_1's auc: 0.77614\tvalid_1's binary_logloss: 0.240494\n",
      "[500]\ttraining's auc: 0.850876\ttraining's binary_logloss: 0.214759\tvalid_1's auc: 0.776933\tvalid_1's binary_logloss: 0.240206\n",
      "Did not meet early stopping. Best iteration is:\n",
      "[500]\ttraining's auc: 0.850876\ttraining's binary_logloss: 0.214759\tvalid_1's auc: 0.776933\tvalid_1's binary_logloss: 0.240206\n",
      "| \u001b[0m 13      \u001b[0m | \u001b[0m 0.7769  \u001b[0m | \u001b[0m 0.9517  \u001b[0m | \u001b[0m 404.2   \u001b[0m | \u001b[0m 13.15   \u001b[0m | \u001b[0m 169.7   \u001b[0m | \u001b[0m 11.36   \u001b[0m | \u001b[0m 60.67   \u001b[0m | \u001b[0m 2.685   \u001b[0m | \u001b[0m 1.096   \u001b[0m | \u001b[0m 0.5336  \u001b[0m |\n",
      "[LightGBM] [Warning] Accuracy may be bad since you didn't explicitly set num_leaves OR 2^max_depth > num_leaves. (num_leaves=31).\n",
      "Training until validation scores don't improve for 100 rounds\n",
      "[100]\ttraining's auc: 0.761664\ttraining's binary_logloss: 0.247856\tvalid_1's auc: 0.752443\tvalid_1's binary_logloss: 0.249556\n",
      "[200]\ttraining's auc: 0.778738\ttraining's binary_logloss: 0.241078\tvalid_1's auc: 0.764543\tvalid_1's binary_logloss: 0.244749\n",
      "[300]\ttraining's auc: 0.788493\ttraining's binary_logloss: 0.23738\tvalid_1's auc: 0.770193\tvalid_1's binary_logloss: 0.242752\n",
      "[400]\ttraining's auc: 0.795566\ttraining's binary_logloss: 0.234773\tvalid_1's auc: 0.772731\tvalid_1's binary_logloss: 0.241837\n",
      "[500]\ttraining's auc: 0.801519\ttraining's binary_logloss: 0.232602\tvalid_1's auc: 0.774401\tvalid_1's binary_logloss: 0.241236\n",
      "Did not meet early stopping. Best iteration is:\n",
      "[500]\ttraining's auc: 0.801519\ttraining's binary_logloss: 0.232602\tvalid_1's auc: 0.774401\tvalid_1's binary_logloss: 0.241236\n",
      "| \u001b[0m 14      \u001b[0m | \u001b[0m 0.7744  \u001b[0m | \u001b[0m 0.9822  \u001b[0m | \u001b[0m 402.2   \u001b[0m | \u001b[0m 7.176   \u001b[0m | \u001b[0m 156.8   \u001b[0m | \u001b[0m 1.974   \u001b[0m | \u001b[0m 31.25   \u001b[0m | \u001b[0m 18.99   \u001b[0m | \u001b[0m 9.559   \u001b[0m | \u001b[0m 0.8367  \u001b[0m |\n",
      "Training until validation scores don't improve for 100 rounds\n",
      "[100]\ttraining's auc: 0.781305\ttraining's binary_logloss: 0.24224\tvalid_1's auc: 0.759845\tvalid_1's binary_logloss: 0.247339\n",
      "[200]\ttraining's auc: 0.804132\ttraining's binary_logloss: 0.232571\tvalid_1's auc: 0.7702\tvalid_1's binary_logloss: 0.242716\n",
      "[300]\ttraining's auc: 0.82056\ttraining's binary_logloss: 0.22617\tvalid_1's auc: 0.773939\tvalid_1's binary_logloss: 0.241311\n",
      "[400]\ttraining's auc: 0.834494\ttraining's binary_logloss: 0.220836\tvalid_1's auc: 0.776291\tvalid_1's binary_logloss: 0.240484\n",
      "[500]\ttraining's auc: 0.846112\ttraining's binary_logloss: 0.216345\tvalid_1's auc: 0.777442\tvalid_1's binary_logloss: 0.240088\n",
      "Did not meet early stopping. Best iteration is:\n",
      "[500]\ttraining's auc: 0.846112\ttraining's binary_logloss: 0.216345\tvalid_1's auc: 0.777442\tvalid_1's binary_logloss: 0.240088\n"
     ]
    },
    {
     "name": "stdout",
     "output_type": "stream",
     "text": [
      "| \u001b[95m 15      \u001b[0m | \u001b[95m 0.7774  \u001b[0m | \u001b[95m 0.7871  \u001b[0m | \u001b[95m 405.1   \u001b[0m | \u001b[95m 10.03   \u001b[0m | \u001b[95m 165.2   \u001b[0m | \u001b[95m 21.33   \u001b[0m | \u001b[95m 61.87   \u001b[0m | \u001b[95m 2.02    \u001b[0m | \u001b[95m 2.977   \u001b[0m | \u001b[95m 0.9291  \u001b[0m |\n",
      "Training until validation scores don't improve for 100 rounds\n",
      "[100]\ttraining's auc: 0.782211\ttraining's binary_logloss: 0.24224\tvalid_1's auc: 0.759948\tvalid_1's binary_logloss: 0.247453\n",
      "[200]\ttraining's auc: 0.805055\ttraining's binary_logloss: 0.232465\tvalid_1's auc: 0.770092\tvalid_1's binary_logloss: 0.242782\n",
      "[300]\ttraining's auc: 0.822634\ttraining's binary_logloss: 0.225782\tvalid_1's auc: 0.774303\tvalid_1's binary_logloss: 0.241222\n",
      "[400]\ttraining's auc: 0.837137\ttraining's binary_logloss: 0.220207\tvalid_1's auc: 0.776537\tvalid_1's binary_logloss: 0.240432\n",
      "[500]\ttraining's auc: 0.849431\ttraining's binary_logloss: 0.215529\tvalid_1's auc: 0.777267\tvalid_1's binary_logloss: 0.240164\n",
      "Did not meet early stopping. Best iteration is:\n",
      "[500]\ttraining's auc: 0.849431\ttraining's binary_logloss: 0.215529\tvalid_1's auc: 0.777267\tvalid_1's binary_logloss: 0.240164\n",
      "| \u001b[0m 16      \u001b[0m | \u001b[0m 0.7773  \u001b[0m | \u001b[0m 0.7169  \u001b[0m | \u001b[0m 401.3   \u001b[0m | \u001b[0m 14.48   \u001b[0m | \u001b[0m 168.2   \u001b[0m | \u001b[0m 9.4     \u001b[0m | \u001b[0m 62.02   \u001b[0m | \u001b[0m 1.055   \u001b[0m | \u001b[0m 5.135   \u001b[0m | \u001b[0m 0.5538  \u001b[0m |\n",
      "Training until validation scores don't improve for 100 rounds\n",
      "[100]\ttraining's auc: 0.783864\ttraining's binary_logloss: 0.242193\tvalid_1's auc: 0.76167\tvalid_1's binary_logloss: 0.247351\n",
      "[200]\ttraining's auc: 0.804527\ttraining's binary_logloss: 0.232573\tvalid_1's auc: 0.770292\tvalid_1's binary_logloss: 0.242711\n",
      "[300]\ttraining's auc: 0.82135\ttraining's binary_logloss: 0.226009\tvalid_1's auc: 0.77442\tvalid_1's binary_logloss: 0.241114\n",
      "[400]\ttraining's auc: 0.836029\ttraining's binary_logloss: 0.220387\tvalid_1's auc: 0.776879\tvalid_1's binary_logloss: 0.240243\n",
      "[500]\ttraining's auc: 0.848685\ttraining's binary_logloss: 0.215547\tvalid_1's auc: 0.777961\tvalid_1's binary_logloss: 0.239883\n",
      "Did not meet early stopping. Best iteration is:\n",
      "[500]\ttraining's auc: 0.848685\ttraining's binary_logloss: 0.215547\tvalid_1's auc: 0.777961\tvalid_1's binary_logloss: 0.239883\n",
      "| \u001b[95m 17      \u001b[0m | \u001b[95m 0.778   \u001b[0m | \u001b[95m 0.5824  \u001b[0m | \u001b[95m 371.2   \u001b[0m | \u001b[95m 15.06   \u001b[0m | \u001b[95m 168.3   \u001b[0m | \u001b[95m 23.89   \u001b[0m | \u001b[95m 63.79   \u001b[0m | \u001b[95m 3.633   \u001b[0m | \u001b[95m 0.3227  \u001b[0m | \u001b[95m 0.6384  \u001b[0m |\n",
      "Training until validation scores don't improve for 100 rounds\n",
      "[100]\ttraining's auc: 0.774397\ttraining's binary_logloss: 0.244187\tvalid_1's auc: 0.757294\tvalid_1's binary_logloss: 0.247932\n",
      "[200]\ttraining's auc: 0.795365\ttraining's binary_logloss: 0.23552\tvalid_1's auc: 0.768842\tvalid_1's binary_logloss: 0.243171\n",
      "[300]\ttraining's auc: 0.809889\ttraining's binary_logloss: 0.230002\tvalid_1's auc: 0.773203\tvalid_1's binary_logloss: 0.241577\n",
      "[400]\ttraining's auc: 0.822257\ttraining's binary_logloss: 0.225356\tvalid_1's auc: 0.775991\tvalid_1's binary_logloss: 0.240605\n",
      "[500]\ttraining's auc: 0.832652\ttraining's binary_logloss: 0.221477\tvalid_1's auc: 0.777198\tvalid_1's binary_logloss: 0.240181\n",
      "Did not meet early stopping. Best iteration is:\n",
      "[500]\ttraining's auc: 0.832652\ttraining's binary_logloss: 0.221477\tvalid_1's auc: 0.777198\tvalid_1's binary_logloss: 0.240181\n",
      "| \u001b[0m 18      \u001b[0m | \u001b[0m 0.7772  \u001b[0m | \u001b[0m 0.8981  \u001b[0m | \u001b[0m 375.2   \u001b[0m | \u001b[0m 14.29   \u001b[0m | \u001b[0m 163.0   \u001b[0m | \u001b[0m 46.3    \u001b[0m | \u001b[0m 50.27   \u001b[0m | \u001b[0m 2.12    \u001b[0m | \u001b[0m 7.75    \u001b[0m | \u001b[0m 0.5721  \u001b[0m |\n",
      "Training until validation scores don't improve for 100 rounds\n",
      "[100]\ttraining's auc: 0.776712\ttraining's binary_logloss: 0.243681\tvalid_1's auc: 0.758389\tvalid_1's binary_logloss: 0.247737\n",
      "[200]\ttraining's auc: 0.79801\ttraining's binary_logloss: 0.234737\tvalid_1's auc: 0.768899\tvalid_1's binary_logloss: 0.243104\n",
      "[300]\ttraining's auc: 0.813364\ttraining's binary_logloss: 0.22888\tvalid_1's auc: 0.773103\tvalid_1's binary_logloss: 0.241565\n",
      "[400]\ttraining's auc: 0.826068\ttraining's binary_logloss: 0.224065\tvalid_1's auc: 0.775823\tvalid_1's binary_logloss: 0.240631\n",
      "[500]\ttraining's auc: 0.836805\ttraining's binary_logloss: 0.220032\tvalid_1's auc: 0.776766\tvalid_1's binary_logloss: 0.240291\n",
      "Did not meet early stopping. Best iteration is:\n",
      "[500]\ttraining's auc: 0.836805\ttraining's binary_logloss: 0.220032\tvalid_1's auc: 0.776766\tvalid_1's binary_logloss: 0.240291\n",
      "| \u001b[0m 19      \u001b[0m | \u001b[0m 0.7768  \u001b[0m | \u001b[0m 0.8035  \u001b[0m | \u001b[0m 369.6   \u001b[0m | \u001b[0m 15.2    \u001b[0m | \u001b[0m 190.2   \u001b[0m | \u001b[0m 31.27   \u001b[0m | \u001b[0m 52.61   \u001b[0m | \u001b[0m 0.8187  \u001b[0m | \u001b[0m 9.05    \u001b[0m | \u001b[0m 0.7846  \u001b[0m |\n",
      "Training until validation scores don't improve for 100 rounds\n",
      "[100]\ttraining's auc: 0.775143\ttraining's binary_logloss: 0.244871\tvalid_1's auc: 0.757308\tvalid_1's binary_logloss: 0.24858\n",
      "[200]\ttraining's auc: 0.793133\ttraining's binary_logloss: 0.236696\tvalid_1's auc: 0.767305\tvalid_1's binary_logloss: 0.24385\n",
      "[300]\ttraining's auc: 0.805686\ttraining's binary_logloss: 0.231768\tvalid_1's auc: 0.771941\tvalid_1's binary_logloss: 0.242104\n",
      "[400]\ttraining's auc: 0.815912\ttraining's binary_logloss: 0.22789\tvalid_1's auc: 0.774142\tvalid_1's binary_logloss: 0.24129\n",
      "[500]\ttraining's auc: 0.825252\ttraining's binary_logloss: 0.224378\tvalid_1's auc: 0.775666\tvalid_1's binary_logloss: 0.240743\n",
      "Did not meet early stopping. Best iteration is:\n",
      "[500]\ttraining's auc: 0.825252\ttraining's binary_logloss: 0.224378\tvalid_1's auc: 0.775666\tvalid_1's binary_logloss: 0.240743\n",
      "| \u001b[0m 20      \u001b[0m | \u001b[0m 0.7757  \u001b[0m | \u001b[0m 0.7313  \u001b[0m | \u001b[0m 368.5   \u001b[0m | \u001b[0m 14.43   \u001b[0m | \u001b[0m 160.4   \u001b[0m | \u001b[0m 38.38   \u001b[0m | \u001b[0m 63.29   \u001b[0m | \u001b[0m 21.19   \u001b[0m | \u001b[0m 2.212   \u001b[0m | \u001b[0m 0.6823  \u001b[0m |\n",
      "Training until validation scores don't improve for 100 rounds\n",
      "[100]\ttraining's auc: 0.779656\ttraining's binary_logloss: 0.242874\tvalid_1's auc: 0.75918\tvalid_1's binary_logloss: 0.247615\n",
      "[200]\ttraining's auc: 0.801697\ttraining's binary_logloss: 0.233473\tvalid_1's auc: 0.769144\tvalid_1's binary_logloss: 0.243028\n",
      "[300]\ttraining's auc: 0.818\ttraining's binary_logloss: 0.227175\tvalid_1's auc: 0.773828\tvalid_1's binary_logloss: 0.241325\n",
      "[400]\ttraining's auc: 0.831466\ttraining's binary_logloss: 0.222071\tvalid_1's auc: 0.776094\tvalid_1's binary_logloss: 0.240513\n",
      "[500]\ttraining's auc: 0.842826\ttraining's binary_logloss: 0.217744\tvalid_1's auc: 0.777063\tvalid_1's binary_logloss: 0.24015\n",
      "Did not meet early stopping. Best iteration is:\n",
      "[500]\ttraining's auc: 0.842826\ttraining's binary_logloss: 0.217744\tvalid_1's auc: 0.777063\tvalid_1's binary_logloss: 0.24015\n",
      "| \u001b[0m 21      \u001b[0m | \u001b[0m 0.7771  \u001b[0m | \u001b[0m 0.7668  \u001b[0m | \u001b[0m 376.6   \u001b[0m | \u001b[0m 10.55   \u001b[0m | \u001b[0m 159.1   \u001b[0m | \u001b[0m 12.95   \u001b[0m | \u001b[0m 58.19   \u001b[0m | \u001b[0m 1.11    \u001b[0m | \u001b[0m 6.881   \u001b[0m | \u001b[0m 0.9496  \u001b[0m |\n",
      "Training until validation scores don't improve for 100 rounds\n",
      "[100]\ttraining's auc: 0.77615\ttraining's binary_logloss: 0.243649\tvalid_1's auc: 0.756564\tvalid_1's binary_logloss: 0.248151\n",
      "[200]\ttraining's auc: 0.797533\ttraining's binary_logloss: 0.234817\tvalid_1's auc: 0.768033\tvalid_1's binary_logloss: 0.243493\n",
      "[300]\ttraining's auc: 0.812703\ttraining's binary_logloss: 0.229025\tvalid_1's auc: 0.772842\tvalid_1's binary_logloss: 0.241797\n",
      "[400]\ttraining's auc: 0.825473\ttraining's binary_logloss: 0.224268\tvalid_1's auc: 0.775308\tvalid_1's binary_logloss: 0.240927\n",
      "[500]\ttraining's auc: 0.836724\ttraining's binary_logloss: 0.220024\tvalid_1's auc: 0.77686\tvalid_1's binary_logloss: 0.240394\n",
      "Did not meet early stopping. Best iteration is:\n",
      "[500]\ttraining's auc: 0.836724\ttraining's binary_logloss: 0.220024\tvalid_1's auc: 0.77686\tvalid_1's binary_logloss: 0.240394\n",
      "| \u001b[0m 22      \u001b[0m | \u001b[0m 0.7769  \u001b[0m | \u001b[0m 0.9772  \u001b[0m | \u001b[0m 346.7   \u001b[0m | \u001b[0m 13.88   \u001b[0m | \u001b[0m 181.4   \u001b[0m | \u001b[0m 4.808   \u001b[0m | \u001b[0m 62.99   \u001b[0m | \u001b[0m 11.53   \u001b[0m | \u001b[0m 3.84    \u001b[0m | \u001b[0m 0.9113  \u001b[0m |\n",
      "Training until validation scores don't improve for 100 rounds\n",
      "[100]\ttraining's auc: 0.777335\ttraining's binary_logloss: 0.243067\tvalid_1's auc: 0.757873\tvalid_1's binary_logloss: 0.247564\n",
      "[200]\ttraining's auc: 0.799929\ttraining's binary_logloss: 0.233796\tvalid_1's auc: 0.769193\tvalid_1's binary_logloss: 0.242922\n",
      "[300]\ttraining's auc: 0.815816\ttraining's binary_logloss: 0.227695\tvalid_1's auc: 0.773629\tvalid_1's binary_logloss: 0.241334\n"
     ]
    },
    {
     "name": "stdout",
     "output_type": "stream",
     "text": [
      "[400]\ttraining's auc: 0.828929\ttraining's binary_logloss: 0.222738\tvalid_1's auc: 0.775752\tvalid_1's binary_logloss: 0.24056\n",
      "[500]\ttraining's auc: 0.840077\ttraining's binary_logloss: 0.218474\tvalid_1's auc: 0.776472\tvalid_1's binary_logloss: 0.240302\n",
      "Did not meet early stopping. Best iteration is:\n",
      "[500]\ttraining's auc: 0.840077\ttraining's binary_logloss: 0.218474\tvalid_1's auc: 0.776472\tvalid_1's binary_logloss: 0.240302\n",
      "| \u001b[0m 23      \u001b[0m | \u001b[0m 0.7765  \u001b[0m | \u001b[0m 0.9556  \u001b[0m | \u001b[0m 395.9   \u001b[0m | \u001b[0m 12.36   \u001b[0m | \u001b[0m 166.4   \u001b[0m | \u001b[0m 43.55   \u001b[0m | \u001b[0m 57.36   \u001b[0m | \u001b[0m 2.284   \u001b[0m | \u001b[0m 3.768   \u001b[0m | \u001b[0m 0.9566  \u001b[0m |\n",
      "Training until validation scores don't improve for 100 rounds\n",
      "[100]\ttraining's auc: 0.782723\ttraining's binary_logloss: 0.242071\tvalid_1's auc: 0.760665\tvalid_1's binary_logloss: 0.247344\n",
      "[200]\ttraining's auc: 0.805964\ttraining's binary_logloss: 0.232194\tvalid_1's auc: 0.770315\tvalid_1's binary_logloss: 0.242684\n",
      "[300]\ttraining's auc: 0.823837\ttraining's binary_logloss: 0.225434\tvalid_1's auc: 0.774051\tvalid_1's binary_logloss: 0.241213\n",
      "[400]\ttraining's auc: 0.839027\ttraining's binary_logloss: 0.219772\tvalid_1's auc: 0.776443\tvalid_1's binary_logloss: 0.240397\n",
      "[500]\ttraining's auc: 0.852246\ttraining's binary_logloss: 0.214837\tvalid_1's auc: 0.777449\tvalid_1's binary_logloss: 0.240067\n",
      "Did not meet early stopping. Best iteration is:\n",
      "[500]\ttraining's auc: 0.852246\ttraining's binary_logloss: 0.214837\tvalid_1's auc: 0.777449\tvalid_1's binary_logloss: 0.240067\n",
      "| \u001b[0m 24      \u001b[0m | \u001b[0m 0.7774  \u001b[0m | \u001b[0m 0.6478  \u001b[0m | \u001b[0m 367.7   \u001b[0m | \u001b[0m 11.73   \u001b[0m | \u001b[0m 186.2   \u001b[0m | \u001b[0m 3.654   \u001b[0m | \u001b[0m 60.46   \u001b[0m | \u001b[0m 1.467   \u001b[0m | \u001b[0m 0.2006  \u001b[0m | \u001b[0m 0.9172  \u001b[0m |\n",
      "Training until validation scores don't improve for 100 rounds\n",
      "[100]\ttraining's auc: 0.781805\ttraining's binary_logloss: 0.242163\tvalid_1's auc: 0.760247\tvalid_1's binary_logloss: 0.24732\n",
      "[200]\ttraining's auc: 0.804572\ttraining's binary_logloss: 0.23237\tvalid_1's auc: 0.770314\tvalid_1's binary_logloss: 0.242677\n",
      "[300]\ttraining's auc: 0.821572\ttraining's binary_logloss: 0.225842\tvalid_1's auc: 0.774201\tvalid_1's binary_logloss: 0.241208\n",
      "[400]\ttraining's auc: 0.835996\ttraining's binary_logloss: 0.220404\tvalid_1's auc: 0.77626\tvalid_1's binary_logloss: 0.240527\n",
      "[500]\ttraining's auc: 0.84808\ttraining's binary_logloss: 0.2157\tvalid_1's auc: 0.776885\tvalid_1's binary_logloss: 0.240276\n",
      "Did not meet early stopping. Best iteration is:\n",
      "[500]\ttraining's auc: 0.84808\ttraining's binary_logloss: 0.2157\tvalid_1's auc: 0.776885\tvalid_1's binary_logloss: 0.240276\n",
      "| \u001b[0m 25      \u001b[0m | \u001b[0m 0.7769  \u001b[0m | \u001b[0m 0.7182  \u001b[0m | \u001b[0m 339.7   \u001b[0m | \u001b[0m 13.76   \u001b[0m | \u001b[0m 167.5   \u001b[0m | \u001b[0m 32.55   \u001b[0m | \u001b[0m 61.99   \u001b[0m | \u001b[0m 0.4836  \u001b[0m | \u001b[0m 3.174   \u001b[0m | \u001b[0m 0.6534  \u001b[0m |\n",
      "Training until validation scores don't improve for 100 rounds\n",
      "[100]\ttraining's auc: 0.769685\ttraining's binary_logloss: 0.247401\tvalid_1's auc: 0.757291\tvalid_1's binary_logloss: 0.249538\n",
      "[200]\ttraining's auc: 0.783386\ttraining's binary_logloss: 0.240356\tvalid_1's auc: 0.76498\tvalid_1's binary_logloss: 0.244993\n",
      "[300]\ttraining's auc: 0.7936\ttraining's binary_logloss: 0.236349\tvalid_1's auc: 0.769056\tvalid_1's binary_logloss: 0.243352\n",
      "[400]\ttraining's auc: 0.801776\ttraining's binary_logloss: 0.233311\tvalid_1's auc: 0.771078\tvalid_1's binary_logloss: 0.242581\n",
      "[500]\ttraining's auc: 0.808916\ttraining's binary_logloss: 0.230676\tvalid_1's auc: 0.772438\tvalid_1's binary_logloss: 0.242114\n",
      "Did not meet early stopping. Best iteration is:\n",
      "[500]\ttraining's auc: 0.808916\ttraining's binary_logloss: 0.230676\tvalid_1's auc: 0.772438\tvalid_1's binary_logloss: 0.242114\n",
      "| \u001b[0m 26      \u001b[0m | \u001b[0m 0.7724  \u001b[0m | \u001b[0m 0.5199  \u001b[0m | \u001b[0m 10.01   \u001b[0m | \u001b[0m 14.57   \u001b[0m | \u001b[0m 198.8   \u001b[0m | \u001b[0m 38.84   \u001b[0m | \u001b[0m 63.26   \u001b[0m | \u001b[0m 18.88   \u001b[0m | \u001b[0m 3.318   \u001b[0m | \u001b[0m 0.6235  \u001b[0m |\n",
      "Training until validation scores don't improve for 100 rounds\n",
      "[100]\ttraining's auc: 0.757162\ttraining's binary_logloss: 0.249588\tvalid_1's auc: 0.750677\tvalid_1's binary_logloss: 0.25056\n",
      "[200]\ttraining's auc: 0.77122\ttraining's binary_logloss: 0.243617\tvalid_1's auc: 0.761312\tvalid_1's binary_logloss: 0.24592\n",
      "[300]\ttraining's auc: 0.779719\ttraining's binary_logloss: 0.240453\tvalid_1's auc: 0.767013\tvalid_1's binary_logloss: 0.243882\n",
      "[400]\ttraining's auc: 0.785638\ttraining's binary_logloss: 0.23835\tvalid_1's auc: 0.77012\tvalid_1's binary_logloss: 0.242793\n",
      "[500]\ttraining's auc: 0.79\ttraining's binary_logloss: 0.236784\tvalid_1's auc: 0.771919\tvalid_1's binary_logloss: 0.242159\n",
      "Did not meet early stopping. Best iteration is:\n",
      "[500]\ttraining's auc: 0.79\ttraining's binary_logloss: 0.236784\tvalid_1's auc: 0.771919\tvalid_1's binary_logloss: 0.242159\n",
      "| \u001b[0m 27      \u001b[0m | \u001b[0m 0.7719  \u001b[0m | \u001b[0m 0.8943  \u001b[0m | \u001b[0m 71.76   \u001b[0m | \u001b[0m 7.739   \u001b[0m | \u001b[0m 10.96   \u001b[0m | \u001b[0m 22.24   \u001b[0m | \u001b[0m 25.94   \u001b[0m | \u001b[0m 46.3    \u001b[0m | \u001b[0m 4.912   \u001b[0m | \u001b[0m 0.7233  \u001b[0m |\n",
      "Training until validation scores don't improve for 100 rounds\n",
      "[100]\ttraining's auc: 0.767905\ttraining's binary_logloss: 0.247137\tvalid_1's auc: 0.753404\tvalid_1's binary_logloss: 0.249821\n",
      "[200]\ttraining's auc: 0.783995\ttraining's binary_logloss: 0.239932\tvalid_1's auc: 0.763746\tvalid_1's binary_logloss: 0.245166\n",
      "[300]\ttraining's auc: 0.794479\ttraining's binary_logloss: 0.235865\tvalid_1's auc: 0.768935\tvalid_1's binary_logloss: 0.243283\n",
      "[400]\ttraining's auc: 0.802465\ttraining's binary_logloss: 0.232906\tvalid_1's auc: 0.771801\tvalid_1's binary_logloss: 0.242311\n",
      "[500]\ttraining's auc: 0.809264\ttraining's binary_logloss: 0.230405\tvalid_1's auc: 0.773466\tvalid_1's binary_logloss: 0.241735\n",
      "Did not meet early stopping. Best iteration is:\n",
      "[500]\ttraining's auc: 0.809264\ttraining's binary_logloss: 0.230405\tvalid_1's auc: 0.773466\tvalid_1's binary_logloss: 0.241735\n",
      "| \u001b[0m 28      \u001b[0m | \u001b[0m 0.7735  \u001b[0m | \u001b[0m 0.8024  \u001b[0m | \u001b[0m 498.8   \u001b[0m | \u001b[0m 13.15   \u001b[0m | \u001b[0m 11.37   \u001b[0m | \u001b[0m 43.17   \u001b[0m | \u001b[0m 59.01   \u001b[0m | \u001b[0m 48.69   \u001b[0m | \u001b[0m 6.392   \u001b[0m | \u001b[0m 0.6109  \u001b[0m |\n",
      "Training until validation scores don't improve for 100 rounds\n",
      "[100]\ttraining's auc: 0.761464\ttraining's binary_logloss: 0.247636\tvalid_1's auc: 0.753328\tvalid_1's binary_logloss: 0.249126\n",
      "[200]\ttraining's auc: 0.779486\ttraining's binary_logloss: 0.240682\tvalid_1's auc: 0.765682\tvalid_1's binary_logloss: 0.244307\n",
      "[300]\ttraining's auc: 0.790491\ttraining's binary_logloss: 0.236669\tvalid_1's auc: 0.771108\tvalid_1's binary_logloss: 0.242385\n",
      "[400]\ttraining's auc: 0.798809\ttraining's binary_logloss: 0.233708\tvalid_1's auc: 0.77386\tvalid_1's binary_logloss: 0.241398\n",
      "[500]\ttraining's auc: 0.805537\ttraining's binary_logloss: 0.231303\tvalid_1's auc: 0.775389\tvalid_1's binary_logloss: 0.240869\n",
      "Did not meet early stopping. Best iteration is:\n",
      "[500]\ttraining's auc: 0.805537\ttraining's binary_logloss: 0.231303\tvalid_1's auc: 0.775389\tvalid_1's binary_logloss: 0.240869\n",
      "| \u001b[0m 29      \u001b[0m | \u001b[0m 0.7754  \u001b[0m | \u001b[0m 0.857   \u001b[0m | \u001b[0m 183.0   \u001b[0m | \u001b[0m 15.88   \u001b[0m | \u001b[0m 199.4   \u001b[0m | \u001b[0m 46.09   \u001b[0m | \u001b[0m 25.53   \u001b[0m | \u001b[0m 0.4676  \u001b[0m | \u001b[0m 4.877   \u001b[0m | \u001b[0m 0.7367  \u001b[0m |\n",
      "Training until validation scores don't improve for 100 rounds\n",
      "[100]\ttraining's auc: 0.779024\ttraining's binary_logloss: 0.243553\tvalid_1's auc: 0.759806\tvalid_1's binary_logloss: 0.247839\n",
      "[200]\ttraining's auc: 0.798203\ttraining's binary_logloss: 0.234756\tvalid_1's auc: 0.769321\tvalid_1's binary_logloss: 0.243067\n",
      "[300]\ttraining's auc: 0.813191\ttraining's binary_logloss: 0.228992\tvalid_1's auc: 0.77358\tvalid_1's binary_logloss: 0.241398\n",
      "[400]\ttraining's auc: 0.825551\ttraining's binary_logloss: 0.224261\tvalid_1's auc: 0.776089\tvalid_1's binary_logloss: 0.240516\n",
      "[500]\ttraining's auc: 0.836676\ttraining's binary_logloss: 0.220061\tvalid_1's auc: 0.777719\tvalid_1's binary_logloss: 0.239922\n",
      "Did not meet early stopping. Best iteration is:\n",
      "[500]\ttraining's auc: 0.836676\ttraining's binary_logloss: 0.220061\tvalid_1's auc: 0.777719\tvalid_1's binary_logloss: 0.239922\n",
      "| \u001b[0m 30      \u001b[0m | \u001b[0m 0.7777  \u001b[0m | \u001b[0m 0.5717  \u001b[0m | \u001b[0m 375.7   \u001b[0m | \u001b[0m 9.301   \u001b[0m | \u001b[0m 21.45   \u001b[0m | \u001b[0m 1.047   \u001b[0m | \u001b[0m 56.95   \u001b[0m | \u001b[0m 5.258   \u001b[0m | \u001b[0m 1.837   \u001b[0m | \u001b[0m 0.5756  \u001b[0m |\n",
      "=====================================================================================================================================\n"
     ]
    }
   ],
   "source": [
    "# BayesianOptimization객체를 수행할 함수와 search할 parameter 범위를 설정하여 생성. \n",
    "lgbBO = BayesianOptimization(f=lgb_roc_eval, pbounds=bayesian_params, random_state=0)\n",
    "# 함수 반환값이 최대가 되는 입력값 유추를 위한 iteration 수행. (24m 3s)\n",
    "lgbBO.maximize(init_points=5, n_iter=25)"
   ]
  },
  {
   "cell_type": "markdown",
   "metadata": {
    "colab_type": "text",
    "id": "2L3qCmiXvR5a"
   },
   "source": [
    "##### Iteration 수행 결과 출력"
   ]
  },
  {
   "cell_type": "code",
   "execution_count": 12,
   "metadata": {
    "ExecuteTime": {
     "end_time": "2021-01-12T04:48:59.134171Z",
     "start_time": "2021-01-12T04:48:59.118844Z"
    },
    "colab": {},
    "colab_type": "code",
    "id": "DinJ-PaxvR5c"
   },
   "outputs": [
    {
     "data": {
      "text/plain": [
       "[{'target': 0.7758329290960616,\n",
       "  'params': {'colsample_bytree': 0.7744067519636624,\n",
       "   'max_bin': 360.44278952248555,\n",
       "   'max_depth': 12.027633760716439,\n",
       "   'min_child_samples': 113.52780476941041,\n",
       "   'min_child_weight': 21.75908516760633,\n",
       "   'num_leaves': 49.835764522666246,\n",
       "   'reg_alpha': 21.884984691022,\n",
       "   'reg_lambda': 8.917838234820016,\n",
       "   'subsample': 0.9818313802505146}},\n",
       " {'target': 0.7756769340648957,\n",
       "  'params': {'colsample_bytree': 0.6917207594128889,\n",
       "   'max_bin': 397.94526866050563,\n",
       "   'max_depth': 11.288949197529044,\n",
       "   'min_child_samples': 117.92846660784714,\n",
       "   'min_child_weight': 46.35423527634039,\n",
       "   'num_leaves': 26.841442327915477,\n",
       "   'reg_alpha': 4.36559369208002,\n",
       "   'reg_lambda': 0.20316375600581688,\n",
       "   'subsample': 0.916309922773969}},\n",
       " {'target': 0.776976163031267,\n",
       "  'params': {'colsample_bytree': 0.8890783754749252,\n",
       "   'max_bin': 436.30595264094137,\n",
       "   'max_depth': 15.78618342232764,\n",
       "   'min_child_samples': 161.8401272011775,\n",
       "   'min_child_weight': 23.61248875039366,\n",
       "   'num_leaves': 55.22116705145822,\n",
       "   'reg_alpha': 5.922538549187972,\n",
       "   'reg_lambda': 6.3995702922539115,\n",
       "   'subsample': 0.5716766437045232}},\n",
       " {'target': 0.7749205409939958,\n",
       "  'params': {'colsample_bytree': 0.972334458524792,\n",
       "   'max_bin': 265.70567765753515,\n",
       "   'max_depth': 10.146619399905235,\n",
       "   'min_child_samples': 60.265566299879126,\n",
       "   'min_child_weight': 38.93745078227661,\n",
       "   'num_leaves': 42.24601328866194,\n",
       "   'reg_alpha': 28.426013103943742,\n",
       "   'reg_lambda': 0.18887921456311507,\n",
       "   'subsample': 0.8088177485379385}},\n",
       " {'target': 0.7741227529929269,\n",
       "  'params': {'colsample_bytree': 0.8060478613612108,\n",
       "   'max_bin': 312.2976584686309,\n",
       "   'max_depth': 15.437480785146242,\n",
       "   'min_child_samples': 139.54585682966186,\n",
       "   'min_child_weight': 18.615887128115514,\n",
       "   'num_leaves': 41.481278151973655,\n",
       "   'reg_alpha': 34.88458348440397,\n",
       "   'reg_lambda': 0.6031944908210691,\n",
       "   'subsample': 0.8333833577228338}},\n",
       " {'target': 0.7773664953021925,\n",
       "  'params': {'colsample_bytree': 0.640481830861817,\n",
       "   'max_bin': 435.0379450370509,\n",
       "   'max_depth': 13.497244758196743,\n",
       "   'min_child_samples': 169.30259380663517,\n",
       "   'min_child_weight': 26.924368410534857,\n",
       "   'num_leaves': 57.69153705029583,\n",
       "   'reg_alpha': 5.7675960060342195,\n",
       "   'reg_lambda': 9.196441703351635,\n",
       "   'subsample': 0.6129607288812317}},\n",
       " {'target': 0.7739399036759036,\n",
       "  'params': {'colsample_bytree': 0.7422042468655807,\n",
       "   'max_bin': 428.5493261036247,\n",
       "   'max_depth': 6.315514435919972,\n",
       "   'min_child_samples': 194.03208286885086,\n",
       "   'min_child_weight': 44.28076387569238,\n",
       "   'num_leaves': 50.75815245101985,\n",
       "   'reg_alpha': 26.00785767987684,\n",
       "   'reg_lambda': 5.84993578502173,\n",
       "   'subsample': 0.9474227457443503}},\n",
       " {'target': 0.7772482274769529,\n",
       "  'params': {'colsample_bytree': 0.5333893019492069,\n",
       "   'max_bin': 449.0387151171313,\n",
       "   'max_depth': 12.212922607023643,\n",
       "   'min_child_samples': 174.84888599731988,\n",
       "   'min_child_weight': 29.7836599504897,\n",
       "   'num_leaves': 62.20165943944433,\n",
       "   'reg_alpha': 9.645626544452428,\n",
       "   'reg_lambda': 8.556212406693492,\n",
       "   'subsample': 0.7159695007014182}},\n",
       " {'target': 0.7759758734462505,\n",
       "  'params': {'colsample_bytree': 0.7089988759927754,\n",
       "   'max_bin': 436.85365598017887,\n",
       "   'max_depth': 7.359631240798348,\n",
       "   'min_child_samples': 154.5385686463433,\n",
       "   'min_child_weight': 41.19294583040448,\n",
       "   'num_leaves': 61.92388746629491,\n",
       "   'reg_alpha': 5.192125778690125,\n",
       "   'reg_lambda': 8.185415661160636,\n",
       "   'subsample': 0.6971456156633256}},\n",
       " {'target': 0.7762406739235685,\n",
       "  'params': {'colsample_bytree': 0.8272321630248705,\n",
       "   'max_bin': 453.9911503476196,\n",
       "   'max_depth': 8.843259651649694,\n",
       "   'min_child_samples': 172.30104987269675,\n",
       "   'min_child_weight': 7.794567008014467,\n",
       "   'num_leaves': 62.47625442010728,\n",
       "   'reg_alpha': 12.961703208570627,\n",
       "   'reg_lambda': 9.245360556729961,\n",
       "   'subsample': 0.7440701179773979}},\n",
       " {'target': 0.7764952479787675,\n",
       "  'params': {'colsample_bytree': 0.5893094622743,\n",
       "   'max_bin': 454.25925743286984,\n",
       "   'max_depth': 8.130813897590308,\n",
       "   'min_child_samples': 177.81673100376875,\n",
       "   'min_child_weight': 27.340136372084796,\n",
       "   'num_leaves': 60.68177908320981,\n",
       "   'reg_alpha': 4.7264905489443665,\n",
       "   'reg_lambda': 1.4296350748227027,\n",
       "   'subsample': 0.8556525461153135}},\n",
       " {'target': 0.7771535306175148,\n",
       "  'params': {'colsample_bytree': 0.5053422801156844,\n",
       "   'max_bin': 415.7599122539792,\n",
       "   'max_depth': 14.280675319405542,\n",
       "   'min_child_samples': 173.30396119532506,\n",
       "   'min_child_weight': 14.822481601041163,\n",
       "   'num_leaves': 54.129410624131786,\n",
       "   'reg_alpha': 1.8761533482688952,\n",
       "   'reg_lambda': 3.376708317045844,\n",
       "   'subsample': 0.9287789856743024}},\n",
       " {'target': 0.7769328889682356,\n",
       "  'params': {'colsample_bytree': 0.9517481615795167,\n",
       "   'max_bin': 404.2477687077706,\n",
       "   'max_depth': 13.148965978396912,\n",
       "   'min_child_samples': 169.69849449576012,\n",
       "   'min_child_weight': 11.36388815948627,\n",
       "   'num_leaves': 60.66794952296474,\n",
       "   'reg_alpha': 2.6851476344067766,\n",
       "   'reg_lambda': 1.09593657785921,\n",
       "   'subsample': 0.5336474737485655}},\n",
       " {'target': 0.7744011918766316,\n",
       "  'params': {'colsample_bytree': 0.9822387316159654,\n",
       "   'max_bin': 402.15668708369657,\n",
       "   'max_depth': 7.175625383553321,\n",
       "   'min_child_samples': 156.79778867788764,\n",
       "   'min_child_weight': 1.9743669564334434,\n",
       "   'num_leaves': 31.252474422161967,\n",
       "   'reg_alpha': 18.99065827078324,\n",
       "   'reg_lambda': 9.559304444136552,\n",
       "   'subsample': 0.8367140366287154}},\n",
       " {'target': 0.7774422118078091,\n",
       "  'params': {'colsample_bytree': 0.7870918673886453,\n",
       "   'max_bin': 405.12979724439043,\n",
       "   'max_depth': 10.0348944523723,\n",
       "   'min_child_samples': 165.21563020282142,\n",
       "   'min_child_weight': 21.332203264120697,\n",
       "   'num_leaves': 61.87277394494194,\n",
       "   'reg_alpha': 2.0197273145317167,\n",
       "   'reg_lambda': 2.9766850887569554,\n",
       "   'subsample': 0.929100400337473}},\n",
       " {'target': 0.7772670569283046,\n",
       "  'params': {'colsample_bytree': 0.7169009573287946,\n",
       "   'max_bin': 401.29920144608667,\n",
       "   'max_depth': 14.481611276112087,\n",
       "   'min_child_samples': 168.21885542889288,\n",
       "   'min_child_weight': 9.400377234221835,\n",
       "   'num_leaves': 62.01997716429825,\n",
       "   'reg_alpha': 1.0553812402166765,\n",
       "   'reg_lambda': 5.134675927721137,\n",
       "   'subsample': 0.5538168614372474}},\n",
       " {'target': 0.777961302008304,\n",
       "  'params': {'colsample_bytree': 0.5824262661493007,\n",
       "   'max_bin': 371.1746026096842,\n",
       "   'max_depth': 15.055455354136251,\n",
       "   'min_child_samples': 168.3108071725216,\n",
       "   'min_child_weight': 23.886438476304335,\n",
       "   'num_leaves': 63.790243708508754,\n",
       "   'reg_alpha': 3.6327436106737037,\n",
       "   'reg_lambda': 0.3227467203381007,\n",
       "   'subsample': 0.6383581316575138}},\n",
       " {'target': 0.7771975861964955,\n",
       "  'params': {'colsample_bytree': 0.8981278289798678,\n",
       "   'max_bin': 375.17904217514155,\n",
       "   'max_depth': 14.294028004875575,\n",
       "   'min_child_samples': 162.998161863493,\n",
       "   'min_child_weight': 46.30425396039739,\n",
       "   'num_leaves': 50.26814189766682,\n",
       "   'reg_alpha': 2.119872012202335,\n",
       "   'reg_lambda': 7.75026606227078,\n",
       "   'subsample': 0.5721235630566639}},\n",
       " {'target': 0.7767660924971176,\n",
       "  'params': {'colsample_bytree': 0.8034531103857304,\n",
       "   'max_bin': 369.6242799781358,\n",
       "   'max_depth': 15.199032111021513,\n",
       "   'min_child_samples': 190.1676925160255,\n",
       "   'min_child_weight': 31.266432243538546,\n",
       "   'num_leaves': 52.61415162295391,\n",
       "   'reg_alpha': 0.8187448116861759,\n",
       "   'reg_lambda': 9.049503029730001,\n",
       "   'subsample': 0.7846166969136641}},\n",
       " {'target': 0.7756663645382131,\n",
       "  'params': {'colsample_bytree': 0.7312713109541252,\n",
       "   'max_bin': 368.4964543106341,\n",
       "   'max_depth': 14.434582170850263,\n",
       "   'min_child_samples': 160.44131032493473,\n",
       "   'min_child_weight': 38.384280547403044,\n",
       "   'num_leaves': 63.29294304841721,\n",
       "   'reg_alpha': 21.18724675147456,\n",
       "   'reg_lambda': 2.211595823213631,\n",
       "   'subsample': 0.6823413334921987}},\n",
       " {'target': 0.777062749280059,\n",
       "  'params': {'colsample_bytree': 0.7668126154328806,\n",
       "   'max_bin': 376.60150379275547,\n",
       "   'max_depth': 10.550433710014056,\n",
       "   'min_child_samples': 159.1173396522813,\n",
       "   'min_child_weight': 12.946995377253387,\n",
       "   'num_leaves': 58.18919500833737,\n",
       "   'reg_alpha': 1.1100895577632468,\n",
       "   'reg_lambda': 6.880549128249925,\n",
       "   'subsample': 0.9496423116711239}},\n",
       " {'target': 0.7768597060356665,\n",
       "  'params': {'colsample_bytree': 0.9772157533520727,\n",
       "   'max_bin': 346.7436582292931,\n",
       "   'max_depth': 13.876254817263995,\n",
       "   'min_child_samples': 181.44265891413107,\n",
       "   'min_child_weight': 4.80780888246455,\n",
       "   'num_leaves': 62.986026421548885,\n",
       "   'reg_alpha': 11.525816750893272,\n",
       "   'reg_lambda': 3.84025929892199,\n",
       "   'subsample': 0.9112982141954422}},\n",
       " {'target': 0.7764720217059765,\n",
       "  'params': {'colsample_bytree': 0.9555808114097751,\n",
       "   'max_bin': 395.92778276370973,\n",
       "   'max_depth': 12.358022314339884,\n",
       "   'min_child_samples': 166.36714200138337,\n",
       "   'min_child_weight': 43.54970412573226,\n",
       "   'num_leaves': 57.35810926133701,\n",
       "   'reg_alpha': 2.283967990656195,\n",
       "   'reg_lambda': 3.76832425549122,\n",
       "   'subsample': 0.9566072753814255}},\n",
       " {'target': 0.7774493312274952,\n",
       "  'params': {'colsample_bytree': 0.6477934739226694,\n",
       "   'max_bin': 367.6675876644748,\n",
       "   'max_depth': 11.730941829672222,\n",
       "   'min_child_samples': 186.24556849168766,\n",
       "   'min_child_weight': 3.6543971928297454,\n",
       "   'num_leaves': 60.45787106398964,\n",
       "   'reg_alpha': 1.4674262765362538,\n",
       "   'reg_lambda': 0.20062291235053142,\n",
       "   'subsample': 0.917246239044115}},\n",
       " {'target': 0.7768854976504461,\n",
       "  'params': {'colsample_bytree': 0.7181743901580139,\n",
       "   'max_bin': 339.74009241419066,\n",
       "   'max_depth': 13.755247729359372,\n",
       "   'min_child_samples': 167.4652128981975,\n",
       "   'min_child_weight': 32.54665377571506,\n",
       "   'num_leaves': 61.98705999392814,\n",
       "   'reg_alpha': 0.4835884388562424,\n",
       "   'reg_lambda': 3.174121356240033,\n",
       "   'subsample': 0.6533734295040801}},\n",
       " {'target': 0.7724379618621265,\n",
       "  'params': {'colsample_bytree': 0.5198595964676527,\n",
       "   'max_bin': 10.009965107411501,\n",
       "   'max_depth': 14.567189854879851,\n",
       "   'min_child_samples': 198.83377097677672,\n",
       "   'min_child_weight': 38.83879647130123,\n",
       "   'num_leaves': 63.26339023800588,\n",
       "   'reg_alpha': 18.88483420805432,\n",
       "   'reg_lambda': 3.3178810933279985,\n",
       "   'subsample': 0.623510096683173}},\n",
       " {'target': 0.7719190876904308,\n",
       "  'params': {'colsample_bytree': 0.8942600105113289,\n",
       "   'max_bin': 71.76236405792643,\n",
       "   'max_depth': 7.739261374710775,\n",
       "   'min_child_samples': 10.955232692724033,\n",
       "   'min_child_weight': 22.241171239900133,\n",
       "   'num_leaves': 25.937394082071023,\n",
       "   'reg_alpha': 46.30009587104107,\n",
       "   'reg_lambda': 4.911624003613104,\n",
       "   'subsample': 0.7233194243539027}},\n",
       " {'target': 0.7734656076822688,\n",
       "  'params': {'colsample_bytree': 0.8023945725189823,\n",
       "   'max_bin': 498.8176421280064,\n",
       "   'max_depth': 13.147765338582632,\n",
       "   'min_child_samples': 11.368447925498895,\n",
       "   'min_child_weight': 43.16584829876573,\n",
       "   'num_leaves': 59.00751702322004,\n",
       "   'reg_alpha': 48.691441585857994,\n",
       "   'reg_lambda': 6.391621338153364,\n",
       "   'subsample': 0.6108519192680875}},\n",
       " {'target': 0.7753891042822209,\n",
       "  'params': {'colsample_bytree': 0.8570231928678625,\n",
       "   'max_bin': 182.96367624517637,\n",
       "   'max_depth': 15.883849845960137,\n",
       "   'min_child_samples': 199.35390110332432,\n",
       "   'min_child_weight': 46.088945332777996,\n",
       "   'num_leaves': 25.529505286243747,\n",
       "   'reg_alpha': 0.46761095131558106,\n",
       "   'reg_lambda': 4.877007626377918,\n",
       "   'subsample': 0.736680130706592}},\n",
       " {'target': 0.7777188541578983,\n",
       "  'params': {'colsample_bytree': 0.5717394348713019,\n",
       "   'max_bin': 375.7377466381185,\n",
       "   'max_depth': 9.3014465175732,\n",
       "   'min_child_samples': 21.453403880742023,\n",
       "   'min_child_weight': 1.0472175191797235,\n",
       "   'num_leaves': 56.95167223639347,\n",
       "   'reg_alpha': 5.258380504748422,\n",
       "   'reg_lambda': 1.8369714379535285,\n",
       "   'subsample': 0.5755759870388671}}]"
      ]
     },
     "execution_count": 12,
     "metadata": {},
     "output_type": "execute_result"
    }
   ],
   "source": [
    "# BayesianOptimization객체의 res는 iteration 수행 시마다 모든 함수 반환결과와 그때의 파라미터 결과값을 가지고 있음. \n",
    "lgbBO.res"
   ]
  },
  {
   "cell_type": "markdown",
   "metadata": {
    "colab_type": "text",
    "id": "7pF714uFvR5l"
   },
   "source": [
    "##### Iteration 결과 Dictionary에서 최대 target값을 가지는 index 추출하고 그때의 parameter 값을 추출.  "
   ]
  },
  {
   "cell_type": "code",
   "execution_count": 13,
   "metadata": {
    "ExecuteTime": {
     "end_time": "2021-01-12T04:50:19.663427Z",
     "start_time": "2021-01-12T04:50:19.659532Z"
    },
    "colab": {},
    "colab_type": "code",
    "id": "aR-_KsyivR5o"
   },
   "outputs": [
    {
     "name": "stdout",
     "output_type": "stream",
     "text": [
      "[0.7758329290960616, 0.7756769340648957, 0.776976163031267, 0.7749205409939958, 0.7741227529929269, 0.7773664953021925, 0.7739399036759036, 0.7772482274769529, 0.7759758734462505, 0.7762406739235685, 0.7764952479787675, 0.7771535306175148, 0.7769328889682356, 0.7744011918766316, 0.7774422118078091, 0.7772670569283046, 0.777961302008304, 0.7771975861964955, 0.7767660924971176, 0.7756663645382131, 0.777062749280059, 0.7768597060356665, 0.7764720217059765, 0.7774493312274952, 0.7768854976504461, 0.7724379618621265, 0.7719190876904308, 0.7734656076822688, 0.7753891042822209, 0.7777188541578983]\n",
      "maximum target index: 16\n"
     ]
    }
   ],
   "source": [
    "# dictionary에 있는 target값을 모두 추출\n",
    "target_list = []\n",
    "for result in lgbBO.res:\n",
    "    target = result['target']\n",
    "    target_list.append(target)\n",
    "print(target_list)\n",
    "# 가장 큰 target 값을 가지는 순번(index)를 추출\n",
    "print('maximum target index:', np.argmax(np.array(target_list)))"
   ]
  },
  {
   "cell_type": "code",
   "execution_count": 14,
   "metadata": {
    "ExecuteTime": {
     "end_time": "2021-01-12T04:51:16.591404Z",
     "start_time": "2021-01-12T04:51:16.587285Z"
    },
    "colab": {},
    "colab_type": "code",
    "id": "zZLxoImyvR5x"
   },
   "outputs": [
    {
     "name": "stdout",
     "output_type": "stream",
     "text": [
      "{'target': 0.777961302008304, 'params': {'colsample_bytree': 0.5824262661493007, 'max_bin': 371.1746026096842, 'max_depth': 15.055455354136251, 'min_child_samples': 168.3108071725216, 'min_child_weight': 23.886438476304335, 'num_leaves': 63.790243708508754, 'reg_alpha': 3.6327436106737037, 'reg_lambda': 0.3227467203381007, 'subsample': 0.6383581316575138}}\n"
     ]
    }
   ],
   "source": [
    "# 가장 큰 target값을 가지는 index값을 기준으로 res에서 해당 parameter 추출. \n",
    "max_dict = lgbBO.res[np.argmax(np.array(target_list))]\n",
    "print(max_dict)"
   ]
  },
  {
   "cell_type": "markdown",
   "metadata": {
    "colab_type": "text",
    "id": "mQ0EHnuIvR53"
   },
   "source": [
    "##### 최적화된 하이퍼 파라미터를 기반으로 재 테스트 "
   ]
  },
  {
   "cell_type": "code",
   "execution_count": 15,
   "metadata": {
    "ExecuteTime": {
     "end_time": "2021-01-12T04:53:43.446850Z",
     "start_time": "2021-01-12T04:53:43.440759Z"
    },
    "colab": {},
    "colab_type": "code",
    "id": "32l2G2bZvR54"
   },
   "outputs": [],
   "source": [
    "def train_apps_all(apps_all_train):\n",
    "    ftr_app = apps_all_train.drop(['SK_ID_CURR', 'TARGET'], axis=1)\n",
    "    target_app = apps_all_train['TARGET']\n",
    "\n",
    "    train_x, valid_x, train_y, valid_y = train_test_split(ftr_app, target_app, test_size=0.3, random_state=2020)\n",
    "    print('train shape:', train_x.shape, 'valid shape:', valid_x.shape)\n",
    "    clf = LGBMClassifier(\n",
    "                nthread=4,\n",
    "                n_estimators=1000,\n",
    "                learning_rate=0.02,\n",
    "                max_depth = 15,\n",
    "                num_leaves=64,\n",
    "                colsample_bytree=0.582,\n",
    "                subsample=0.638,\n",
    "                max_bin=371,\n",
    "                reg_alpha=3.633,\n",
    "                reg_lambda=0.323,\n",
    "                min_child_weight=24,\n",
    "                min_child_samples=168,\n",
    "                silent=-1,\n",
    "                verbose=-1,\n",
    "                )\n",
    "\n",
    "    clf.fit(train_x, train_y, eval_set=[(train_x, train_y), (valid_x, valid_y)], eval_metric= 'auc', verbose= 100, \n",
    "                early_stopping_rounds= 100)\n",
    "    \n",
    "    return clf"
   ]
  },
  {
   "cell_type": "code",
   "execution_count": 16,
   "metadata": {
    "ExecuteTime": {
     "end_time": "2021-01-12T04:55:02.617503Z",
     "start_time": "2021-01-12T04:53:46.984218Z"
    },
    "colab": {},
    "colab_type": "code",
    "id": "XxqV8KpFvR5_"
   },
   "outputs": [
    {
     "name": "stdout",
     "output_type": "stream",
     "text": [
      "prev_agg shape: (338857, 41)\n",
      "apps_all before merge shape: (356255, 135)\n",
      "apps_all after merge with prev_agg shape: (356255, 176)\n",
      "train shape: (215257, 174) valid shape: (92254, 174)\n",
      "[LightGBM] [Warning] num_threads is set with nthread=4, will be overridden by n_jobs=-1. Current value: num_threads=-1\n",
      "Training until validation scores don't improve for 100 rounds\n",
      "[100]\ttraining's auc: 0.783906\ttraining's binary_logloss: 0.242191\tvalid_1's auc: 0.761466\tvalid_1's binary_logloss: 0.24739\n",
      "[200]\ttraining's auc: 0.804487\ttraining's binary_logloss: 0.23254\tvalid_1's auc: 0.770483\tvalid_1's binary_logloss: 0.242633\n",
      "[300]\ttraining's auc: 0.821403\ttraining's binary_logloss: 0.225993\tvalid_1's auc: 0.774525\tvalid_1's binary_logloss: 0.241079\n",
      "[400]\ttraining's auc: 0.836004\ttraining's binary_logloss: 0.220459\tvalid_1's auc: 0.776612\tvalid_1's binary_logloss: 0.240321\n",
      "[500]\ttraining's auc: 0.848499\ttraining's binary_logloss: 0.215588\tvalid_1's auc: 0.778139\tvalid_1's binary_logloss: 0.239818\n",
      "[600]\ttraining's auc: 0.859436\ttraining's binary_logloss: 0.211219\tvalid_1's auc: 0.77868\tvalid_1's binary_logloss: 0.23963\n",
      "[700]\ttraining's auc: 0.869455\ttraining's binary_logloss: 0.207164\tvalid_1's auc: 0.779084\tvalid_1's binary_logloss: 0.239493\n",
      "[800]\ttraining's auc: 0.878692\ttraining's binary_logloss: 0.203284\tvalid_1's auc: 0.779326\tvalid_1's binary_logloss: 0.239413\n",
      "[900]\ttraining's auc: 0.887268\ttraining's binary_logloss: 0.199575\tvalid_1's auc: 0.779256\tvalid_1's binary_logloss: 0.239444\n",
      "Early stopping, best iteration is:\n",
      "[849]\ttraining's auc: 0.883077\ttraining's binary_logloss: 0.201436\tvalid_1's auc: 0.779364\tvalid_1's binary_logloss: 0.239404\n"
     ]
    }
   ],
   "source": [
    "apps_all = get_apps_all_with_prev_agg(apps, prev)\n",
    "apps_all = get_apps_all_encoded(apps_all)\n",
    "apps_all_train, apps_all_test = get_apps_all_train_test(apps_all)\n",
    "clf = train_apps_all(apps_all_train)"
   ]
  },
  {
   "cell_type": "code",
   "execution_count": 17,
   "metadata": {
    "ExecuteTime": {
     "end_time": "2021-01-12T04:55:11.963577Z",
     "start_time": "2021-01-12T04:55:10.347570Z"
    },
    "colab": {},
    "colab_type": "code",
    "id": "gQrAcQ1QvR6I"
   },
   "outputs": [],
   "source": [
    "preds = clf.predict_proba(apps_all_test.drop('SK_ID_CURR', axis=1))[:, 1 ]\n",
    "apps_all_test['TARGET'] = preds\n",
    "apps_all_test[['SK_ID_CURR', 'TARGET']].to_csv('prev_baseline_tuning_01.csv', index=False)"
   ]
  },
  {
   "cell_type": "markdown",
   "metadata": {},
   "source": [
    "| 차수 | Private Score | Public Score | 설명 |\n",
    "|:---------:|:----------:|:----------:|:----------:|\n",
    "| 1차 | *0.74088* | *0.74448* | application 데이터 세트 기본 preprocessing |\n",
    "| 2차 | *0.75458* | *0.75882* | application 데이터 세트 Feature Engineering |\n",
    "| 3차 | *0.76396* | *0.77579* | previous 데이터 세트 Feature Engineering |\n",
    "| 4차 | *0.76420* | *0.77583* | previous 데이터 세트 Feature Engineering 함수화 |\n",
    "| 5차 | *0.76710* | *0.77630* | Bayesian Optimization을 이용한 하이퍼 파라미터 튜닝 |\n",
    "\n",
    "Public Score는 test 셋의 20%, Private Score는 test 셋의 80%로 설정, 그래서 보다 정확하게 튜닝을 하려면 train 셋을 cross validation으로 하는 것이 맞다. 하지만 이것이 점수를 무조건 올릴 수 있다라고 할 순 없다.(오히려 떨어질 수 있음)"
   ]
  },
  {
   "cell_type": "markdown",
   "metadata": {
    "colab": {},
    "colab_type": "code",
    "id": "l01RNW9nvR6y"
   },
   "source": [
    "##### cross validation 으로 hyper parameter 재 tuning\n",
    "강의에서 6시간이 걸린다고 해서 일단은 돌리지 않고 코드만 가져옴.  \n",
    "강의에서 돌렸을 때 Private Score 는 *0.76355*, Public Score 는 *0.77499* 가 나와서 오히려 떨어짐."
   ]
  },
  {
   "cell_type": "code",
   "execution_count": null,
   "metadata": {},
   "outputs": [],
   "source": [
    "bayesian_params = {\n",
    "    'max_depth': (6, 16), \n",
    "    'num_leaves': (24, 64), \n",
    "    'min_data_in_leaf': (10, 200), # min_child_samples\n",
    "    'min_child_weight':(1, 50),\n",
    "    'bagging_fraction':(0.5, 1.0), # subsample\n",
    "    'feature_fraction': (0.5, 1.0), # colsample_bytree\n",
    "    'max_bin':(10, 500),\n",
    "    'lambda_l2':(0.001, 10), # reg_lambda\n",
    "    'lambda_l1': (0.01, 50) # reg_alpha\n",
    "}"
   ]
  },
  {
   "cell_type": "code",
   "execution_count": null,
   "metadata": {},
   "outputs": [],
   "source": [
    "import lightgbm as lgb\n",
    "\n",
    "train_data = lgb.Dataset(data=ftr_app, label=target_app, free_raw_data=False)\n",
    "def lgb_roc_eval_cv(max_depth, num_leaves, min_data_in_leaf, min_child_weight, bagging_fraction, \n",
    "                 feature_fraction,  max_bin, lambda_l2, lambda_l1):   \n",
    "    params = {\n",
    "        \"num_iterations\":500, \"learning_rate\":0.02,\n",
    "        'early_stopping_rounds':100, 'metric':'auc',\n",
    "        'max_depth': int(round(max_depth)), #  호출 시 실수형 값이 들어오므로 실수형 하이퍼 파라미터는 정수형으로 변경 \n",
    "        'num_leaves': int(round(num_leaves)), \n",
    "        'min_data_in_leaf': int(round(min_data_in_leaf)),\n",
    "        'min_child_weight': int(round(min_child_weight)),\n",
    "        'bagging_fraction': max(min(bagging_fraction, 1), 0), \n",
    "        'feature_fraction': max(min(feature_fraction, 1), 0),\n",
    "        'max_bin':  max(int(round(max_bin)),10),\n",
    "        'lambda_l2': max(lambda_l2,0),\n",
    "        'lambda_l1': max(lambda_l1, 0)\n",
    "    }\n",
    "    # 파이썬 lightgbm의 cv 메소드를 사용. \n",
    "    # cross_val_score() 는 early_stopping_rounds 가 없다.\n",
    "    cv_result = lgb.cv(params, train_data, nfold=3, seed=0,  verbose_eval =100,  early_stopping_rounds=50, metrics=['auc'])\n",
    "    return max(cv_result['auc-mean'])   "
   ]
  },
  {
   "cell_type": "code",
   "execution_count": null,
   "metadata": {},
   "outputs": [],
   "source": [
    "max_dict = lgbBO.res[np.argmax(np.array(target_list))]\n",
    "print(max_dict)"
   ]
  },
  {
   "cell_type": "code",
   "execution_count": null,
   "metadata": {},
   "outputs": [],
   "source": [
    "def train_apps_all(apps_all_train):\n",
    "    ftr_app = apps_all_train.drop(['SK_ID_CURR', 'TARGET'], axis=1)\n",
    "    target_app = apps_all_train['TARGET']\n",
    "\n",
    "    train_x, valid_x, train_y, valid_y = train_test_split(ftr_app, target_app, test_size=0.3, random_state=2020)\n",
    "    print('train shape:', train_x.shape, 'valid shape:', valid_x.shape)\n",
    "    clf = LGBMClassifier(\n",
    "                nthread=4,\n",
    "                n_estimators=1000,\n",
    "                learning_rate=0.02,\n",
    "                max_depth = 10,\n",
    "                num_leaves=60,\n",
    "                colsample_bytree=0.511,\n",
    "                subsample=0.785,\n",
    "                max_bin=208,\n",
    "                reg_alpha=7.009,\n",
    "                reg_lambda=6.579,\n",
    "                min_child_weight=40,\n",
    "                min_child_samples=91,\n",
    "                silent=-1,\n",
    "                verbose=-1,\n",
    "                )\n",
    "\n",
    "    clf.fit(train_x, train_y, eval_set=[(train_x, train_y), (valid_x, valid_y)], eval_metric= 'auc', verbose= 100, \n",
    "                early_stopping_rounds= 100)\n",
    "    \n",
    "    return clf"
   ]
  },
  {
   "cell_type": "code",
   "execution_count": null,
   "metadata": {},
   "outputs": [],
   "source": [
    "apps_all = get_apps_all_with_prev_agg(apps, prev)\n",
    "apps_all = get_apps_all_encoded(apps_all)\n",
    "apps_all_train, apps_all_test = get_apps_all_train_test(apps_all)\n",
    "clf = train_apps_all(apps_all_train)"
   ]
  },
  {
   "cell_type": "code",
   "execution_count": null,
   "metadata": {},
   "outputs": [],
   "source": [
    "preds = clf.predict_proba(apps_all_test.drop('SK_ID_CURR', axis=1))[:, 1 ]\n",
    "apps_all_test['TARGET'] = preds\n",
    "apps_all_test[['SK_ID_CURR', 'TARGET']].to_csv('prev_baseline_tuning_02.csv', index=False)"
   ]
  },
  {
   "cell_type": "markdown",
   "metadata": {},
   "source": [
    "> 캐글 Advanced 머신러닝 실전 박치기 / 인프런"
   ]
  }
 ],
 "metadata": {
  "colab": {
   "collapsed_sections": [],
   "name": "hyper_param_tuning_01_exercise_imsi.ipynb",
   "provenance": [
    {
     "file_id": "1HVJ2UaK5AL7x-BkwYDXrVcNW0AyFT5VY",
     "timestamp": 1599721004762
    }
   ]
  },
  "kernelspec": {
   "display_name": "Python 3",
   "language": "python",
   "name": "python3"
  },
  "language_info": {
   "codemirror_mode": {
    "name": "ipython",
    "version": 3
   },
   "file_extension": ".py",
   "mimetype": "text/x-python",
   "name": "python",
   "nbconvert_exporter": "python",
   "pygments_lexer": "ipython3",
   "version": "3.8.3"
  },
  "toc": {
   "base_numbering": 1,
   "nav_menu": {},
   "number_sections": true,
   "sideBar": true,
   "skip_h1_title": false,
   "title_cell": "Table of Contents",
   "title_sidebar": "Contents",
   "toc_cell": false,
   "toc_position": {},
   "toc_section_display": true,
   "toc_window_display": false
  },
  "varInspector": {
   "cols": {
    "lenName": 16,
    "lenType": 16,
    "lenVar": 40
   },
   "kernels_config": {
    "python": {
     "delete_cmd_postfix": "",
     "delete_cmd_prefix": "del ",
     "library": "var_list.py",
     "varRefreshCmd": "print(var_dic_list())"
    },
    "r": {
     "delete_cmd_postfix": ") ",
     "delete_cmd_prefix": "rm(",
     "library": "var_list.r",
     "varRefreshCmd": "cat(var_dic_list()) "
    }
   },
   "types_to_exclude": [
    "module",
    "function",
    "builtin_function_or_method",
    "instance",
    "_Feature"
   ],
   "window_display": false
  }
 },
 "nbformat": 4,
 "nbformat_minor": 1
}
