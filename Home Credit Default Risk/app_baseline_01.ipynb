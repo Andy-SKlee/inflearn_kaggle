{
 "cells": [
  {
   "cell_type": "markdown",
   "metadata": {
    "colab_type": "text",
    "id": "Z94Gd5gcxbpl"
   },
   "source": [
    "#### 라이브러리와 app 데이터 세트 로딩"
   ]
  },
  {
   "cell_type": "code",
   "execution_count": null,
   "metadata": {
    "colab": {
     "base_uri": "https://localhost:8080/",
     "height": 75
    },
    "colab_type": "code",
    "executionInfo": {
     "elapsed": 1268,
     "status": "ok",
     "timestamp": 1599704077660,
     "user": {
      "displayName": "권철민",
      "photoUrl": "",
      "userId": "03917677622451543916"
     },
     "user_tz": -540
    },
    "id": "AGeCUnOXxbpq",
    "outputId": "5f9bb6e5-593c-43ad-ec66-b9d694de36b2"
   },
   "outputs": [],
   "source": [
    "import numpy as np\n",
    "import pandas as pd\n",
    "import gc\n",
    "import time\n",
    "import matplotlib.pyplot as plt\n",
    "import seaborn as sns\n",
    "#import warning\n",
    "%matplotlib inline\n",
    "\n",
    "#warning.ignorewarning(...)\n",
    "\n",
    "pd.set_option('display.max_rows', 100)\n",
    "pd.set_option('display.max_columns', 200)"
   ]
  },
  {
   "cell_type": "code",
   "execution_count": null,
   "metadata": {
    "colab": {
     "base_uri": "https://localhost:8080/",
     "height": 131
    },
    "colab_type": "code",
    "executionInfo": {
     "elapsed": 24712,
     "status": "ok",
     "timestamp": 1599704368412,
     "user": {
      "displayName": "권철민",
      "photoUrl": "",
      "userId": "03917677622451543916"
     },
     "user_tz": -540
    },
    "id": "R4SjSmA0yz76",
    "outputId": "4790d888-ced4-4cc7-953b-d61ccd4f8daf"
   },
   "outputs": [],
   "source": [
    "app_train = pd.read_csv('application_train.csv')\n",
    "app_test = pd.read_csv('application_test.csv')"
   ]
  },
  {
   "cell_type": "code",
   "execution_count": null,
   "metadata": {
    "colab": {},
    "colab_type": "code",
    "id": "C29xeOIcxbqC"
   },
   "outputs": [],
   "source": [
    "app_train.head()"
   ]
  },
  {
   "cell_type": "code",
   "execution_count": null,
   "metadata": {
    "colab": {
     "base_uri": "https://localhost:8080/",
     "height": 36
    },
    "colab_type": "code",
    "executionInfo": {
     "elapsed": 1135,
     "status": "ok",
     "timestamp": 1599707099137,
     "user": {
      "displayName": "권철민",
      "photoUrl": "",
      "userId": "03917677622451543916"
     },
     "user_tz": -540
    },
    "id": "4ySMSCd0xbqL",
    "outputId": "c716e903-aa3a-455d-8b49-dd475d5d4270",
    "scrolled": true
   },
   "outputs": [],
   "source": [
    "app_train.shape, app_test.shape"
   ]
  },
  {
   "cell_type": "markdown",
   "metadata": {
    "colab_type": "text",
    "id": "XsjdylxmxbqS"
   },
   "source": [
    "#### TARGET 값 분포 및 AMT_INCOME_TOTAL 값 Histogram\n",
    "* TARGET값 별 분포도, Pandas, Matplotlib, Seaborn으로 histogram 표현"
   ]
  },
  {
   "cell_type": "code",
   "execution_count": null,
   "metadata": {
    "colab": {
     "base_uri": "https://localhost:8080/",
     "height": 74
    },
    "colab_type": "code",
    "executionInfo": {
     "elapsed": 1030,
     "status": "ok",
     "timestamp": 1599707230240,
     "user": {
      "displayName": "권철민",
      "photoUrl": "",
      "userId": "03917677622451543916"
     },
     "user_tz": -540
    },
    "id": "Mwiu5_ipxbqU",
    "outputId": "9324e7eb-693c-4419-dc91-d1d1ad6dff35"
   },
   "outputs": [],
   "source": [
    "app_train['TARGET'].value_counts()"
   ]
  },
  {
   "cell_type": "code",
   "execution_count": null,
   "metadata": {
    "colab": {
     "base_uri": "https://localhost:8080/",
     "height": 297
    },
    "colab_type": "code",
    "executionInfo": {
     "elapsed": 1137,
     "status": "ok",
     "timestamp": 1599707232356,
     "user": {
      "displayName": "권철민",
      "photoUrl": "",
      "userId": "03917677622451543916"
     },
     "user_tz": -540
    },
    "id": "hdisk5Vqxbqb",
    "outputId": "47f43cf4-7d49-443f-b533-9e0649a1a5ab"
   },
   "outputs": [],
   "source": [
    "app_train['AMT_CREDIT'].hist()\n",
    "#plt.hist(app_train['AMT_INCOME_TOTAL'])"
   ]
  },
  {
   "cell_type": "code",
   "execution_count": null,
   "metadata": {
    "colab": {
     "base_uri": "https://localhost:8080/",
     "height": 310
    },
    "colab_type": "code",
    "executionInfo": {
     "elapsed": 1102,
     "status": "ok",
     "timestamp": 1599707236618,
     "user": {
      "displayName": "권철민",
      "photoUrl": "",
      "userId": "03917677622451543916"
     },
     "user_tz": -540
    },
    "id": "k4t-EYT3xbqj",
    "outputId": "4980fd59-7781-4388-b1c2-c92d2a9a0bf8"
   },
   "outputs": [],
   "source": [
    "sns.distplot(app_train['AMT_INCOME_TOTAL'])"
   ]
  },
  {
   "cell_type": "code",
   "execution_count": null,
   "metadata": {
    "colab": {
     "base_uri": "https://localhost:8080/",
     "height": 299
    },
    "colab_type": "code",
    "executionInfo": {
     "elapsed": 1040,
     "status": "ok",
     "timestamp": 1599707238619,
     "user": {
      "displayName": "권철민",
      "photoUrl": "",
      "userId": "03917677622451543916"
     },
     "user_tz": -540
    },
    "id": "rTlovs4axbqp",
    "outputId": "7f557691-79e3-4f9c-8bb1-b7be65286987"
   },
   "outputs": [],
   "source": [
    "sns.boxplot(app_train['AMT_INCOME_TOTAL'])"
   ]
  },
  {
   "cell_type": "markdown",
   "metadata": {
    "colab_type": "text",
    "id": "ml7TKXZ3xbqv"
   },
   "source": [
    "#### AMT_INCOME_TOTAL이 1000000 이하인 값에 대한 분포도 \n",
    "* boolean indexing으로 filtering 후 histogram 표현"
   ]
  },
  {
   "cell_type": "code",
   "execution_count": null,
   "metadata": {
    "colab": {
     "base_uri": "https://localhost:8080/",
     "height": 297
    },
    "colab_type": "code",
    "executionInfo": {
     "elapsed": 1021,
     "status": "ok",
     "timestamp": 1599707275983,
     "user": {
      "displayName": "권철민",
      "photoUrl": "",
      "userId": "03917677622451543916"
     },
     "user_tz": -540
    },
    "id": "Hj_EivZGxbqx",
    "outputId": "56172b01-6065-4b0e-9810-4b0208360cc3"
   },
   "outputs": [],
   "source": [
    "# boolean indexing 으로 filtering 적용 \n",
    "app_train[app_train['AMT_INCOME_TOTAL'] < 1000000]['AMT_INCOME_TOTAL'].hist()"
   ]
  },
  {
   "cell_type": "code",
   "execution_count": null,
   "metadata": {
    "colab": {
     "base_uri": "https://localhost:8080/",
     "height": 310
    },
    "colab_type": "code",
    "executionInfo": {
     "elapsed": 1106,
     "status": "ok",
     "timestamp": 1599707362648,
     "user": {
      "displayName": "권철민",
      "photoUrl": "",
      "userId": "03917677622451543916"
     },
     "user_tz": -540
    },
    "id": "SnKennsExbq3",
    "outputId": "9d14115a-ff12-4357-b646-b337c449b1f1"
   },
   "outputs": [],
   "source": [
    "# distplot으로 histogram 표현 \n",
    "sns.distplot(app_train[app_train['AMT_CREDIT'] < 1000000]['AMT_CREDIT'])"
   ]
  },
  {
   "cell_type": "markdown",
   "metadata": {
    "colab_type": "text",
    "id": "edktUyp6xbq-"
   },
   "source": [
    "#### TARGET 값에 따른 AMT_INCOME_TOTAL값 분포도 비교\n",
    "* distplot과 violinplot 시각화\n",
    "* plt.subplots() 기반으로 seaborn의 distplot과 violinplot으로 분포도 비교 시각화"
   ]
  },
  {
   "cell_type": "code",
   "execution_count": null,
   "metadata": {
    "colab": {
     "base_uri": "https://localhost:8080/",
     "height": 310
    },
    "colab_type": "code",
    "executionInfo": {
     "elapsed": 1654,
     "status": "ok",
     "timestamp": 1599707370388,
     "user": {
      "displayName": "권철민",
      "photoUrl": "",
      "userId": "03917677622451543916"
     },
     "user_tz": -540
    },
    "id": "qMCvMiTIxbq_",
    "outputId": "889405ba-617b-4fad-abb8-221b09e59106"
   },
   "outputs": [],
   "source": [
    "# TARGET값에 따른 Filtering 조건 각각 설정. \n",
    "cond1 = (app_train['TARGET'] == 1)\n",
    "cond0 = (app_train['TARGET'] == 0)\n",
    "# AMT_INCOME_TOTAL은 매우 큰 값이 있으므로 이는 제외.\n",
    "cond_amt = (app_train['AMT_INCOME_TOTAL'] < 500000)\n",
    "# distplot으로 TARGET=1이면 빨간색으로, 0이면 푸른색으로 Histogram 표현 \n",
    "sns.distplot(app_train[cond0 & cond_amt]['AMT_INCOME_TOTAL'], label='0', color='blue')\n",
    "sns.distplot(app_train[cond1 & cond_amt]['AMT_INCOME_TOTAL'], label='1', color='red')"
   ]
  },
  {
   "cell_type": "code",
   "execution_count": null,
   "metadata": {
    "colab": {
     "base_uri": "https://localhost:8080/",
     "height": 298
    },
    "colab_type": "code",
    "executionInfo": {
     "elapsed": 2481,
     "status": "ok",
     "timestamp": 1599707376603,
     "user": {
      "displayName": "권철민",
      "photoUrl": "",
      "userId": "03917677622451543916"
     },
     "user_tz": -540
    },
    "id": "Lr-9hOj7xbrI",
    "outputId": "17243da6-39d0-4ed7-ce4c-d3c7b09424c1"
   },
   "outputs": [],
   "source": [
    "# violinplot을 이용하면 Category 값별로 연속형 값의 분포도를 알수 있음. x는 category컬럼, y는 연속형 컬럼 \n",
    "sns.violinplot(x='TARGET', y='AMT_INCOME_TOTAL', data=app_train[cond_amt])"
   ]
  },
  {
   "cell_type": "code",
   "execution_count": null,
   "metadata": {
    "colab": {
     "base_uri": "https://localhost:8080/",
     "height": 269
    },
    "colab_type": "code",
    "executionInfo": {
     "elapsed": 1044,
     "status": "ok",
     "timestamp": 1599707458524,
     "user": {
      "displayName": "권철민",
      "photoUrl": "",
      "userId": "03917677622451543916"
     },
     "user_tz": -540
    },
    "id": "AhJ9JoZTxbrQ",
    "outputId": "b6be2025-62bb-47a0-a94b-e939f49e351a"
   },
   "outputs": [],
   "source": [
    "# 2개의 subplot을 생성\n",
    "fig, axs = plt.subplots(figsize=(12, 4), nrows=1, ncols=2)"
   ]
  },
  {
   "cell_type": "code",
   "execution_count": null,
   "metadata": {
    "colab": {
     "base_uri": "https://localhost:8080/",
     "height": 310
    },
    "colab_type": "code",
    "executionInfo": {
     "elapsed": 2947,
     "status": "ok",
     "timestamp": 1599707579839,
     "user": {
      "displayName": "권철민",
      "photoUrl": "",
      "userId": "03917677622451543916"
     },
     "user_tz": -540
    },
    "id": "6RytLZamxbrV",
    "outputId": "33b76269-68de-4dfe-c9eb-9f203346da13"
   },
   "outputs": [],
   "source": [
    "# TARGET 값 유형에 따른 Boolean Indexing 조건\n",
    "cond1 = (app_train['TARGET'] == 1)\n",
    "cond0 = (app_train['TARGET'] == 0)\n",
    "cond_amt = (app_train['AMT_INCOME_TOTAL'] < 500000)\n",
    "# 2개의 subplot을 생성하고  왼쪽에는 violinplot을 오른쪽에는 distplot을 표현\n",
    "fig, axs = plt.subplots(figsize=(12, 4), nrows=1, ncols=2, squeeze=False)\n",
    "# violin plot을 왼쪽 subplot에 그림. \n",
    "sns.violinplot(x='TARGET', y='AMT_INCOME_TOTAL', data=app_train[cond_amt], ax=axs[0][0] )\n",
    "# Histogram을 오른쪽 subplot에 그림. \n",
    "sns.distplot(app_train[cond0 & cond_amt]['AMT_INCOME_TOTAL'], ax=axs[0][1], label='0', color='blue')\n",
    "sns.distplot(app_train[cond1 & cond_amt]['AMT_INCOME_TOTAL'], ax=axs[0][1], label='1', color='red')"
   ]
  },
  {
   "cell_type": "code",
   "execution_count": null,
   "metadata": {
    "colab": {
     "base_uri": "https://localhost:8080/",
     "height": 291
    },
    "colab_type": "code",
    "executionInfo": {
     "elapsed": 3363,
     "status": "ok",
     "timestamp": 1599707585940,
     "user": {
      "displayName": "권철민",
      "photoUrl": "",
      "userId": "03917677622451543916"
     },
     "user_tz": -540
    },
    "id": "BBsTieG9xbrd",
    "outputId": "120aa536-553d-4555-bdba-1572fcdd6ada"
   },
   "outputs": [],
   "source": [
    "def show_column_hist_by_target(df, column, is_amt=False):    \n",
    "    cond1 = (df['TARGET'] == 1)\n",
    "    cond0 = (df['TARGET'] == 0)\n",
    "\n",
    "    fig, axs = plt.subplots(figsize=(12, 4), nrows=1, ncols=2, squeeze=False)\n",
    "    # is_amt가 True이면 < 500000 조건으로 filtering\n",
    "    cond_amt = True\n",
    "    if is_amt:\n",
    "        cond_amt = df[column] < 500000\n",
    "    \n",
    "    sns.violinplot(x='TARGET', y=column, data=df[cond_amt], ax=axs[0][0] )\n",
    "    sns.distplot(df[cond0 & cond_amt][column], ax=axs[0][1], label='0', color='blue')\n",
    "    sns.distplot(df[cond1 & cond_amt][column], ax=axs[0][1], label='1', color='red')\n",
    "\n",
    "show_column_hist_by_target(app_train, 'AMT_INCOME_TOTAL', is_amt=True)"
   ]
  },
  {
   "cell_type": "markdown",
   "metadata": {
    "colab_type": "text",
    "id": "UeG9h64wxbrj"
   },
   "source": [
    "#### app_train과 app_test를 합쳐서 한번에 데이터 preprocessing 수행. "
   ]
  },
  {
   "cell_type": "code",
   "execution_count": null,
   "metadata": {
    "colab": {
     "base_uri": "https://localhost:8080/",
     "height": 36
    },
    "colab_type": "code",
    "executionInfo": {
     "elapsed": 992,
     "status": "ok",
     "timestamp": 1599707590515,
     "user": {
      "displayName": "권철민",
      "photoUrl": "",
      "userId": "03917677622451543916"
     },
     "user_tz": -540
    },
    "id": "IKyFzQhkxbrk",
    "outputId": "91a1059e-22cd-4c53-e145-e2d76e4b09f7"
   },
   "outputs": [],
   "source": [
    "app_train.shape, app_test.shape"
   ]
  },
  {
   "cell_type": "code",
   "execution_count": null,
   "metadata": {
    "colab": {
     "base_uri": "https://localhost:8080/",
     "height": 36
    },
    "colab_type": "code",
    "executionInfo": {
     "elapsed": 1897,
     "status": "ok",
     "timestamp": 1599707591428,
     "user": {
      "displayName": "권철민",
      "photoUrl": "",
      "userId": "03917677622451543916"
     },
     "user_tz": -540
    },
    "id": "DkgGn6B8xbrq",
    "outputId": "de705137-2b66-4a8a-ca24-5d0774fed47f"
   },
   "outputs": [],
   "source": [
    "# pandas의 concat()을 이용하여 app_train과 app_test를 결합\n",
    "apps = pd.concat([app_train, app_test])\n",
    "apps.shape"
   ]
  },
  {
   "cell_type": "code",
   "execution_count": null,
   "metadata": {
    "colab": {
     "base_uri": "https://localhost:8080/",
     "height": 92
    },
    "colab_type": "code",
    "executionInfo": {
     "elapsed": 1896,
     "status": "ok",
     "timestamp": 1599707591432,
     "user": {
      "displayName": "권철민",
      "photoUrl": "",
      "userId": "03917677622451543916"
     },
     "user_tz": -540
    },
    "id": "QvuTPmKixbr1",
    "outputId": "3070b185-f490-436c-e7a1-b2dc6d1b79a8"
   },
   "outputs": [],
   "source": [
    "# app_train의 TARGET 값을 Null로 입력됨. \n",
    "apps['TARGET'].value_counts(dropna=False)"
   ]
  },
  {
   "cell_type": "markdown",
   "metadata": {
    "colab_type": "text",
    "id": "JVu1OYtdxbr7"
   },
   "source": [
    "#### Object feature들을 Label Encoding\n",
    "* pandas의 factorize()를 이용"
   ]
  },
  {
   "cell_type": "code",
   "execution_count": null,
   "metadata": {
    "colab": {},
    "colab_type": "code",
    "id": "_0ZU7oJzxbr7"
   },
   "outputs": [],
   "source": [
    "apps.info()"
   ]
  },
  {
   "cell_type": "code",
   "execution_count": null,
   "metadata": {
    "colab": {},
    "colab_type": "code",
    "id": "qqkK3iKExbsB"
   },
   "outputs": [],
   "source": [
    "# pd.factorize()는 편리하게 Category 컬럼을 Label인코딩 수행. \n",
    "# pd.factorize(Category컬럼 Series)는 Label인코딩된 Series와 uniq한 Category값을 반환함. [0]을 이용하여 Label인코딩 Series만 취함. \n",
    "apps['CODE_GENDER'] = pd.factorize(apps['CODE_GENDER'])[0]"
   ]
  },
  {
   "cell_type": "code",
   "execution_count": null,
   "metadata": {
    "colab": {},
    "colab_type": "code",
    "id": "noDnZuQRxbsH"
   },
   "outputs": [],
   "source": [
    "# Label 인코딩을 위해 object 유형의 컬럼만 추출 \n",
    "object_columns = apps.dtypes[apps.dtypes == 'object'].index.tolist()"
   ]
  },
  {
   "cell_type": "code",
   "execution_count": null,
   "metadata": {
    "colab": {
     "base_uri": "https://localhost:8080/",
     "height": 300
    },
    "colab_type": "code",
    "executionInfo": {
     "elapsed": 1068,
     "status": "ok",
     "timestamp": 1599707650856,
     "user": {
      "displayName": "권철민",
      "photoUrl": "",
      "userId": "03917677622451543916"
     },
     "user_tz": -540
    },
    "id": "2pGGSaDCxbsO",
    "outputId": "c4bada92-02e4-46fc-a74c-1af09b1ee850"
   },
   "outputs": [],
   "source": [
    "object_columns"
   ]
  },
  {
   "cell_type": "code",
   "execution_count": null,
   "metadata": {
    "colab": {},
    "colab_type": "code",
    "id": "nYTrdJPAxbsV"
   },
   "outputs": [],
   "source": [
    "# pd.factorize()는 한개의 컬럼만 Label 인코딩이 가능하므로 object형 컬럼들을 iteration하면서 변환 수행. \n",
    "for column in object_columns:\n",
    "    apps[column] = pd.factorize(apps[column])[0]"
   ]
  },
  {
   "cell_type": "code",
   "execution_count": null,
   "metadata": {
    "colab": {
     "base_uri": "https://localhost:8080/",
     "height": 111
    },
    "colab_type": "code",
    "executionInfo": {
     "elapsed": 1121,
     "status": "ok",
     "timestamp": 1599707657839,
     "user": {
      "displayName": "권철민",
      "photoUrl": "",
      "userId": "03917677622451543916"
     },
     "user_tz": -540
    },
    "id": "AVfKJ41Nxbsa",
    "outputId": "2493cba7-5ea5-47e4-eee5-6adfced4b5d5"
   },
   "outputs": [],
   "source": [
    "apps.info()"
   ]
  },
  {
   "cell_type": "markdown",
   "metadata": {
    "colab_type": "text",
    "id": "zAAl4Sj2xbsf"
   },
   "source": [
    "#### Null값 일괄 변환"
   ]
  },
  {
   "cell_type": "code",
   "execution_count": null,
   "metadata": {
    "colab": {
     "base_uri": "https://localhost:8080/",
     "height": 1000
    },
    "colab_type": "code",
    "executionInfo": {
     "elapsed": 1037,
     "status": "ok",
     "timestamp": 1599707660600,
     "user": {
      "displayName": "권철민",
      "photoUrl": "",
      "userId": "03917677622451543916"
     },
     "user_tz": -540
    },
    "id": "YGHIWkAdxbsg",
    "outputId": "26e3e355-8e2e-4247-fa46-6d93ccb3bfd4"
   },
   "outputs": [],
   "source": [
    "apps.isnull().sum().head(100)"
   ]
  },
  {
   "cell_type": "code",
   "execution_count": null,
   "metadata": {
    "colab": {},
    "colab_type": "code",
    "id": "JS0pKwiRxbsm"
   },
   "outputs": [],
   "source": [
    "# -999로 모든 컬럼들의 Null값 변환\n",
    "apps = apps.fillna(-999)"
   ]
  },
  {
   "cell_type": "code",
   "execution_count": null,
   "metadata": {
    "colab": {
     "base_uri": "https://localhost:8080/",
     "height": 1000
    },
    "colab_type": "code",
    "executionInfo": {
     "elapsed": 779,
     "status": "ok",
     "timestamp": 1599707665036,
     "user": {
      "displayName": "권철민",
      "photoUrl": "",
      "userId": "03917677622451543916"
     },
     "user_tz": -540
    },
    "id": "MvMxmOHbxbsw",
    "outputId": "80d525f2-0154-4651-ba36-4de2a2d12a5e"
   },
   "outputs": [],
   "source": [
    "apps.isnull().sum().head(100)"
   ]
  },
  {
   "cell_type": "markdown",
   "metadata": {
    "colab_type": "text",
    "id": "Ac3Vzh0ixbs1"
   },
   "source": [
    "#### 학습 데이터와 테스트 데이터 다시 분리"
   ]
  },
  {
   "cell_type": "code",
   "execution_count": null,
   "metadata": {
    "colab": {
     "base_uri": "https://localhost:8080/",
     "height": 36
    },
    "colab_type": "code",
    "executionInfo": {
     "elapsed": 1106,
     "status": "ok",
     "timestamp": 1599707670169,
     "user": {
      "displayName": "권철민",
      "photoUrl": "",
      "userId": "03917677622451543916"
     },
     "user_tz": -540
    },
    "id": "UmX715Lmxbs2",
    "outputId": "e6bf624a-5656-4e12-f649-579627e2027f"
   },
   "outputs": [],
   "source": [
    "# app_test의 TARGET 컬럼은 원래 null이었는데 앞에서 fillna(-999)로 -999로 변환됨. 이를 추출함. \n",
    "app_train = apps[apps['TARGET'] != -999]\n",
    "app_test = apps[apps['TARGET']== -999]\n",
    "app_train.shape, app_test.shape"
   ]
  },
  {
   "cell_type": "code",
   "execution_count": null,
   "metadata": {
    "colab": {},
    "colab_type": "code",
    "id": "qW71ptisxbs6"
   },
   "outputs": [],
   "source": [
    "# app_test의 TARGET컬럼을 Drop\n",
    "app_test = app_test.drop('TARGET', axis=1)"
   ]
  },
  {
   "cell_type": "code",
   "execution_count": null,
   "metadata": {
    "colab": {
     "base_uri": "https://localhost:8080/",
     "height": 36
    },
    "colab_type": "code",
    "executionInfo": {
     "elapsed": 706,
     "status": "ok",
     "timestamp": 1599707673419,
     "user": {
      "displayName": "권철민",
      "photoUrl": "",
      "userId": "03917677622451543916"
     },
     "user_tz": -540
    },
    "id": "RykeyeEVxbs-",
    "outputId": "7cd24071-210a-46ce-eb71-84a4c121ffc8"
   },
   "outputs": [],
   "source": [
    "app_test.shape"
   ]
  },
  {
   "cell_type": "code",
   "execution_count": null,
   "metadata": {
    "colab": {
     "base_uri": "https://localhost:8080/",
     "height": 243
    },
    "colab_type": "code",
    "executionInfo": {
     "elapsed": 1014,
     "status": "ok",
     "timestamp": 1599707675625,
     "user": {
      "displayName": "권철민",
      "photoUrl": "",
      "userId": "03917677622451543916"
     },
     "user_tz": -540
    },
    "id": "7960TYpFxbtC",
    "outputId": "4df6f2f7-7d84-4e6b-dc56-b35f340225a2",
    "scrolled": true
   },
   "outputs": [],
   "source": [
    "app_test.dtypes"
   ]
  },
  {
   "cell_type": "markdown",
   "metadata": {
    "colab_type": "text",
    "id": "4AnTWNzqxbtG"
   },
   "source": [
    "#### 학습 데이터를 검증 데이터로 분리하고 LGBM Classifier로 학습 수행. \n",
    "* 피처용 데이터와 타겟 데이터 분리\n",
    "* 학습용/검증용 데이터 세트 분리"
   ]
  },
  {
   "cell_type": "code",
   "execution_count": null,
   "metadata": {
    "colab": {},
    "colab_type": "code",
    "id": "KUs1TLaLxbtG"
   },
   "outputs": [],
   "source": [
    "ftr_app = app_train.drop(['SK_ID_CURR', 'TARGET'], axis=1)\n",
    "target_app = app_train['TARGET']"
   ]
  },
  {
   "cell_type": "code",
   "execution_count": null,
   "metadata": {
    "colab": {
     "base_uri": "https://localhost:8080/",
     "height": 36
    },
    "colab_type": "code",
    "executionInfo": {
     "elapsed": 1408,
     "status": "ok",
     "timestamp": 1599707681298,
     "user": {
      "displayName": "권철민",
      "photoUrl": "",
      "userId": "03917677622451543916"
     },
     "user_tz": -540
    },
    "id": "zG7qLmsBxbtK",
    "outputId": "661c0f6c-5257-48da-ee9c-396e74d3bb86"
   },
   "outputs": [],
   "source": [
    "from sklearn.model_selection import train_test_split\n",
    "\n",
    "train_x, valid_x, train_y, valid_y = train_test_split(ftr_app, target_app, test_size=0.3, random_state=2020)\n",
    "train_x.shape, valid_x.shape"
   ]
  },
  {
   "cell_type": "code",
   "execution_count": null,
   "metadata": {
    "colab": {
     "base_uri": "https://localhost:8080/",
     "height": 318
    },
    "colab_type": "code",
    "executionInfo": {
     "elapsed": 105493,
     "status": "ok",
     "timestamp": 1599707787746,
     "user": {
      "displayName": "권철민",
      "photoUrl": "",
      "userId": "03917677622451543916"
     },
     "user_tz": -540
    },
    "id": "wJnLCZEsxbtR",
    "outputId": "3865296e-ad87-419b-9184-749c4c8c73ec"
   },
   "outputs": [],
   "source": [
    "from lightgbm import LGBMClassifier\n",
    "\n",
    "clf = LGBMClassifier(\n",
    "        n_jobs=-1,\n",
    "        n_estimators=1000,\n",
    "        learning_rate=0.02,\n",
    "        num_leaves=32,\n",
    "        subsample=0.8,\n",
    "        max_depth=12,\n",
    "        silent=-1,\n",
    "        verbose=-1\n",
    "        )\n",
    "\n",
    "clf.fit(train_x, train_y, eval_set=[(train_x, train_y), (valid_x, valid_y)], \n",
    "eval_metric= 'auc', verbose= 100, early_stopping_rounds= 50)"
   ]
  },
  {
   "cell_type": "markdown",
   "metadata": {
    "colab_type": "text",
    "id": "i1exKUgfxbtY"
   },
   "source": [
    "##### Feature importance 시각화 "
   ]
  },
  {
   "cell_type": "code",
   "execution_count": null,
   "metadata": {
    "colab": {
     "base_uri": "https://localhost:8080/",
     "height": 1000
    },
    "colab_type": "code",
    "executionInfo": {
     "elapsed": 4441,
     "status": "ok",
     "timestamp": 1599708194504,
     "user": {
      "displayName": "권철민",
      "photoUrl": "",
      "userId": "03917677622451543916"
     },
     "user_tz": -540
    },
    "id": "HClNuyQgxbtZ",
    "outputId": "2a079c58-ece0-4ac3-eb58-b46d4121197a"
   },
   "outputs": [],
   "source": [
    "from lightgbm import plot_importance\n",
    "\n",
    "plot_importance(clf, figsize=(16, 32))"
   ]
  },
  {
   "cell_type": "markdown",
   "metadata": {
    "colab_type": "text",
    "id": "0sytTOoHxbte"
   },
   "source": [
    "#### 학습된 Classifier를 이용하여 테스트 데이터을 예측하고 결과를 Kaggle로 Submit 수행. "
   ]
  },
  {
   "cell_type": "code",
   "execution_count": null,
   "metadata": {
    "colab": {},
    "colab_type": "code",
    "id": "QNFzJDg6xbtf"
   },
   "outputs": [],
   "source": [
    "#학습된 classifier의 predict_proba()를 이용하여 binary classification에서 1이될 확률만 추출\n",
    "preds = clf.predict_proba(app_test.drop(['SK_ID_CURR'], axis=1))[:, 1 ]"
   ]
  },
  {
   "cell_type": "code",
   "execution_count": null,
   "metadata": {
    "colab": {
     "base_uri": "https://localhost:8080/",
     "height": 224
    },
    "colab_type": "code",
    "executionInfo": {
     "elapsed": 1033,
     "status": "ok",
     "timestamp": 1599708490241,
     "user": {
      "displayName": "권철민",
      "photoUrl": "",
      "userId": "03917677622451543916"
     },
     "user_tz": -540
    },
    "id": "vCoG0e_Pxbti",
    "outputId": "c4e3a464-f968-4cd7-a8b4-60b77da33ae2"
   },
   "outputs": [],
   "source": [
    "# app_test의 TARGET으로 1이될 확률 Update\n",
    "app_test['TARGET'] = preds\n",
    "app_test['TARGET'].head(10)"
   ]
  },
  {
   "cell_type": "code",
   "execution_count": null,
   "metadata": {
    "colab": {},
    "colab_type": "code",
    "id": "IkCiRrXLxbtk"
   },
   "outputs": [],
   "source": [
    "# SK_ID_CURR과 TARGET 값만 csv 형태로 생성. \n",
    "app_test[['SK_ID_CURR', 'TARGET']].to_csv('app_baseline_01.csv', index=False)"
   ]
  },
  {
   "cell_type": "code",
   "execution_count": null,
   "metadata": {
    "colab": {
     "base_uri": "https://localhost:8080/",
     "height": 92
    },
    "colab_type": "code",
    "executionInfo": {
     "elapsed": 1101,
     "status": "ok",
     "timestamp": 1599708532697,
     "user": {
      "displayName": "권철민",
      "photoUrl": "",
      "userId": "03917677622451543916"
     },
     "user_tz": -540
    },
    "id": "3iI1-mNexbto",
    "outputId": "f923b782-dbe3-49cd-db3c-367ab4ad25d2"
   },
   "outputs": [],
   "source": [
    "!ls "
   ]
  },
  {
   "cell_type": "code",
   "execution_count": null,
   "metadata": {
    "colab": {},
    "colab_type": "code",
    "id": "R_CWbZMuxbtq"
   },
   "outputs": [],
   "source": []
  }
 ],
 "metadata": {
  "colab": {
   "collapsed_sections": [],
   "name": "app_baseline_01.ipynb",
   "provenance": []
  },
  "kernelspec": {
   "display_name": "Python 3",
   "language": "python",
   "name": "python3"
  },
  "language_info": {
   "codemirror_mode": {
    "name": "ipython",
    "version": 3
   },
   "file_extension": ".py",
   "mimetype": "text/x-python",
   "name": "python",
   "nbconvert_exporter": "python",
   "pygments_lexer": "ipython3",
   "version": "3.8.3"
  }
 },
 "nbformat": 4,
 "nbformat_minor": 1
}
